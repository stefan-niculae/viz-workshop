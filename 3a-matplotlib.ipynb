{
 "cells": [
  {
   "cell_type": "markdown",
   "metadata": {},
   "source": [
    "# 3. Plotting Basics"
   ]
  },
  {
   "cell_type": "markdown",
   "metadata": {},
   "source": [
    "A plot is a graphical representation of a data set, showing the relationship between two or more variables. They are useful because we can quickly derive an understanding which would not come from raw lists of values. Inspecting a chart can make large amounts of information easy to digest and interpret."
   ]
  },
  {
   "cell_type": "markdown",
   "metadata": {},
   "source": [
    "The main purpose of a chart is to convey information clearly and accurately. Aesthetically pleasing charts often make consumption more enjoyable and can help deliver the message more effectively. But they carry meaning — never should clarity be sacrificed for visual embelishments."
   ]
  },
  {
   "cell_type": "markdown",
   "metadata": {},
   "source": [
    "Always try to keep your charts simple. Allow the audience to focus on the essential information, without overwhelming them with unnecessary noise.\n",
    "\n",
    "> Perfection is achieved not when there is nothing more to add, but when there is nothing left to take away"
   ]
  },
  {
   "cell_type": "markdown",
   "metadata": {},
   "source": [
    "**👾 Trivia**: the following terms are most often interchangeable, but for the most pedantic of readers, here are the semantic differences:\n",
    " - **graph**: shows a mathematical function (a line, usually continuous)\n",
    " - **plot**: observations marked on a coordinate system (points, usually continuous x/y axes)\n",
    " - **chart**: graphic representation of data (e.g.: bars, axes usually discrete)\n",
    " - **diagram**: an illustrative figure"
   ]
  },
  {
   "cell_type": "markdown",
   "metadata": {},
   "source": [
    "---"
   ]
  },
  {
   "cell_type": "markdown",
   "metadata": {},
   "source": [
    "### Table of contents\n",
    "\n",
    "\n",
    "- Matplotlib\n",
    " - Fundamental Charts\n",
    "   - Line\n",
    "   - Bar\n",
    "   - Scatter\n",
    "   - No Pie\n",
    "   - Derivative Chart Types\n",
    " - Customization\n",
    "   - Line Properties\n",
    "   - Marker Properties\n",
    "   - Figure Properties\n",
    " - Multiple Plots\n",
    "   - Same Figure\n",
    "   - Multiple Figures\n",
    "   - Subplots\n",
    "   - Twin Axes\n",
    " - Plotting effectively\n",
    "  - Simplicity\n",
    "   - Number Precision\n",
    "   - Decluttering\n",
    "  - Thoroughness\n",
    "   - Labels\n",
    "   - Units\n",
    "  - Appropriate\n",
    "   - Truncating\n",
    "   - Aspect Ratio\n",
    "   - Scale Type\n",
    "  - Transformation Examples"
   ]
  },
  {
   "cell_type": "markdown",
   "metadata": {},
   "source": [
    "---"
   ]
  },
  {
   "cell_type": "code",
   "execution_count": null,
   "metadata": {},
   "outputs": [],
   "source": [
    "import numpy as np   # we'll use numpy to generate dummy data\n",
    "import pandas as pd  # we'll use pandas to read and manipulate datasets"
   ]
  },
  {
   "cell_type": "markdown",
   "metadata": {},
   "source": [
    "**ℹ️ Tip**: packages often make use of other packages. Sometimes the developer does not keep them updated, leading to deprecation warnings. Since they are intended for the package's maintainer, there is nothing you can do to solve them. You can all such warnings (even ones caused by you) like this:"
   ]
  },
  {
   "cell_type": "code",
   "execution_count": null,
   "metadata": {},
   "outputs": [],
   "source": [
    "import warnings\n",
    "warnings.simplefilter('ignore', FutureWarning)"
   ]
  },
  {
   "cell_type": "markdown",
   "metadata": {},
   "source": [
    "## 3a. Matplotlib"
   ]
  },
  {
   "cell_type": "markdown",
   "metadata": {},
   "source": [
    "Matplotlib is the de-facto Python library for creating attractive charts. It has a friendly interface, making basic plotting simple but also allowing power users to fully customize plots."
   ]
  },
  {
   "cell_type": "markdown",
   "metadata": {},
   "source": [
    "**👾 Trivia**: the package's name comes from _MATLAB-style plotting library_. This is because the syntax and functionality was initially heavily inspired by MATLAB's `plot` command."
   ]
  },
  {
   "cell_type": "code",
   "execution_count": null,
   "metadata": {},
   "outputs": [],
   "source": [
    "import matplotlib.pyplot as plt\n",
    "# display figures alongside cell output\n",
    "%matplotlib inline"
   ]
  },
  {
   "cell_type": "markdown",
   "metadata": {},
   "source": [
    "**ℹ️ Tip**: increase the DPI of figures for crispier charts (but larger image size):"
   ]
  },
  {
   "cell_type": "code",
   "execution_count": null,
   "metadata": {},
   "outputs": [],
   "source": [
    "import matplotlib\n",
    "matplotlib.rcParams['figure.dpi'] = 100  # make figures large\n",
    "%config InlineBackend.figure_format = 'retina'  # make figures crisp"
   ]
  },
  {
   "cell_type": "markdown",
   "metadata": {},
   "source": [
    "---"
   ]
  },
  {
   "cell_type": "markdown",
   "metadata": {},
   "source": [
    "Plot some values:"
   ]
  },
  {
   "cell_type": "code",
   "execution_count": null,
   "metadata": {},
   "outputs": [],
   "source": [
    "plt.plot([1, 5, 4, 8]);"
   ]
  },
  {
   "cell_type": "markdown",
   "metadata": {},
   "source": [
    "**ℹ️ Tip**: In other environments, it'd be required to call `plt.show()` in order to display the chart, but thanks to the `%matplotlib inline` magic, that is no longer needed. For cells that display multiple charts, `plt.show()` still has to be called after each chart. Also we are using the `;` trick to supress the output, which is just the memory address of a matplotlib object."
   ]
  },
  {
   "cell_type": "markdown",
   "metadata": {},
   "source": [
    "Provide both axes values:"
   ]
  },
  {
   "cell_type": "code",
   "execution_count": null,
   "metadata": {},
   "outputs": [],
   "source": [
    "x = 1, 2, 4\n",
    "y = 5, 4, 7"
   ]
  },
  {
   "cell_type": "code",
   "execution_count": null,
   "metadata": {},
   "outputs": [],
   "source": [
    "plt.plot(x, y);"
   ]
  },
  {
   "cell_type": "markdown",
   "metadata": {},
   "source": [
    "### Fundamental Charts"
   ]
  },
  {
   "cell_type": "markdown",
   "metadata": {},
   "source": [
    "How and when to use the various types of basic charts"
   ]
  },
  {
   "cell_type": "markdown",
   "metadata": {},
   "source": [
    "#### Line"
   ]
  },
  {
   "cell_type": "markdown",
   "metadata": {},
   "source": [
    "Line charts display information as a series of data points connected by straight lines.  It is used to visualize a trend in data over a sequential variable, such as time. The horizontal axis is a (discretized) continuous variable and the vertical axis represents a measured value."
   ]
  },
  {
   "cell_type": "code",
   "execution_count": null,
   "metadata": {},
   "outputs": [],
   "source": [
    "years = [2015, 2016, 2017, 2018, 2019, 2020]\n",
    "price = [  70,   72,   79,   80,   85,   77]"
   ]
  },
  {
   "cell_type": "code",
   "execution_count": null,
   "metadata": {},
   "outputs": [],
   "source": [
    "plt.plot(years, price);"
   ]
  },
  {
   "cell_type": "markdown",
   "metadata": {},
   "source": [
    "#### Bar"
   ]
  },
  {
   "cell_type": "markdown",
   "metadata": {},
   "source": [
    "Bar charts present categorical data with bars of lengths proportional to the variable they represent. It is used to compare discretely-indexed values. The horizontal axis shows a discrete variable and the vertical axis represents a measured value."
   ]
  },
  {
   "cell_type": "code",
   "execution_count": null,
   "metadata": {},
   "outputs": [],
   "source": [
    "companies = ['Stark Ind.', 'Wayne Ent.', 'Lexcorp', 'Oscorp', 'ACME']\n",
    "valuation = [41, 37, 31, 26, 24]"
   ]
  },
  {
   "cell_type": "code",
   "execution_count": null,
   "metadata": {},
   "outputs": [],
   "source": [
    "plt.bar(companies, valuation);"
   ]
  },
  {
   "cell_type": "markdown",
   "metadata": {},
   "source": [
    "**ℹ️ Tip**: unless there is a specific reason not to, order data points either ascendingly or descendingly."
   ]
  },
  {
   "cell_type": "markdown",
   "metadata": {},
   "source": [
    "**ℹ️ Tip**: multi-line labels can be achieved by placing `\\n` inside the label string. When possible, shorter labels should be preferred."
   ]
  },
  {
   "cell_type": "markdown",
   "metadata": {},
   "source": [
    "#### Scatter"
   ]
  },
  {
   "cell_type": "markdown",
   "metadata": {},
   "source": [
    "A scatter plot displays values for two variables as a collection of points. It is used to identify the relationship between two variables. The position of each point is by one variable on the horizontal axis and the other variable on the vertical axis."
   ]
  },
  {
   "cell_type": "code",
   "execution_count": null,
   "metadata": {},
   "outputs": [],
   "source": [
    "height = [146, 152, 161, 164, 166, 171, 174, 178, 185, 195]\n",
    "weight = [ 54,  59,  79,  75,  73,  82,  85,  84,  92,  94]"
   ]
  },
  {
   "cell_type": "code",
   "execution_count": null,
   "metadata": {},
   "outputs": [],
   "source": [
    "plt.scatter(weight, height);"
   ]
  },
  {
   "cell_type": "markdown",
   "metadata": {},
   "source": [
    "#### No Pie"
   ]
  },
  {
   "cell_type": "markdown",
   "metadata": {},
   "source": [
    "Pie charts appear deceitfuly friendly, but in reality, the data can almost always be presented in a better format. The human eye has evolved to be able to compare linear distances. It is difficult to tell the difference between angles, especially when precision is important."
   ]
  },
  {
   "cell_type": "code",
   "execution_count": null,
   "metadata": {},
   "outputs": [],
   "source": [
    "plt.pie(valuation, labels=companies)\n",
    "plt.gca().set_aspect('equal')"
   ]
  },
  {
   "cell_type": "markdown",
   "metadata": {},
   "source": [
    "Whichone is larger, _ACME_ or _Lexcorp_? As shown before, the data can be much more efficiently presented in the form of a bar chart. Even for such few data points, angular distances are hard to interpret. "
   ]
  },
  {
   "cell_type": "markdown",
   "metadata": {},
   "source": [
    "The only time pie charts can be efficient is when you have very very few slices:"
   ]
  },
  {
   "cell_type": "code",
   "execution_count": null,
   "metadata": {},
   "outputs": [],
   "source": [
    "plt.pie([.73, .27], labels=['Female', 'Male'])\n",
    "plt.gca().set_aspect('equal')"
   ]
  },
  {
   "cell_type": "markdown",
   "metadata": {},
   "source": [
    "Even in this case, just showing the single number is more effective: _73% Female_. \n",
    "\n",
    "**AVOID PIE CHARTS!**"
   ]
  },
  {
   "cell_type": "markdown",
   "metadata": {},
   "source": [
    "**ℹ️ Tip**: area charts, in general, are less efficient, because it is harder to compare areas than lengths. We usually underestimate the size of bigger shapes and overestimate the size of the smaller ones, because we instinctively judge the lengths or widths and not their areas."
   ]
  },
  {
   "cell_type": "markdown",
   "metadata": {},
   "source": [
    "#### Derivative Chart Types"
   ]
  },
  {
   "cell_type": "markdown",
   "metadata": {},
   "source": [
    "The basic charts can be expanded with options into derivative ones"
   ]
  },
  {
   "cell_type": "markdown",
   "metadata": {},
   "source": [
    "##### Negative Bar Charts"
   ]
  },
  {
   "cell_type": "markdown",
   "metadata": {},
   "source": [
    "The regular bar chart can also be used to display negative values. In case positive values are displayed as well, the zeroline makes comparisons easier:"
   ]
  },
  {
   "cell_type": "code",
   "execution_count": null,
   "metadata": {},
   "outputs": [],
   "source": [
    "plt.bar(range(4), [6, 2, -3, -5])\n",
    "plt.axhline(0, color='gray', linewidth=.5);  # draw a horizontal line at y=0"
   ]
  },
  {
   "cell_type": "markdown",
   "metadata": {},
   "source": [
    "##### Stacked Bar Charts"
   ]
  },
  {
   "cell_type": "markdown",
   "metadata": {},
   "source": [
    "Show two series for the same index:"
   ]
  },
  {
   "cell_type": "code",
   "execution_count": null,
   "metadata": {},
   "outputs": [],
   "source": [
    "companies = ['Stark\\nIndustries', 'Wayne\\nEnterprises', 'Lexcorp', 'Oscorp', 'ACME']\n",
    "valuation = [41, 37, 31, 26, 24]\n",
    "potential = [ 4,  9,  3,  5,  4]"
   ]
  },
  {
   "cell_type": "code",
   "execution_count": null,
   "metadata": {},
   "outputs": [],
   "source": [
    "plt.bar(companies, valuation, label='worth')\n",
    "plt.bar(companies, potential, bottom=valuation, label='growth')\n",
    "\n",
    "plt.legend();"
   ]
  },
  {
   "cell_type": "markdown",
   "metadata": {},
   "source": [
    "##### Grouped Bar Charts"
   ]
  },
  {
   "cell_type": "markdown",
   "metadata": {},
   "source": [
    "Same data, but highlight differences in the second series, not in the overall sum:"
   ]
  },
  {
   "cell_type": "code",
   "execution_count": null,
   "metadata": {},
   "outputs": [],
   "source": [
    "width = .3\n",
    "x = np.arange(len(companies))\n",
    "\n",
    "plt.bar(x,         valuation, width=width, label='worth')\n",
    "plt.bar(x + width, potential, width=width, label='growth')\n",
    "\n",
    "plt.gca().set_xticks(x + width / 2)\n",
    "plt.gca().set_xticklabels(companies)\n",
    "plt.legend();"
   ]
  },
  {
   "cell_type": "markdown",
   "metadata": {},
   "source": [
    "##### Area Chart"
   ]
  },
  {
   "cell_type": "markdown",
   "metadata": {},
   "source": [
    "Line chart where the bottom is filled:"
   ]
  },
  {
   "cell_type": "code",
   "execution_count": null,
   "metadata": {},
   "outputs": [],
   "source": [
    "plt.fill_between(years, price)\n",
    "plt.ylim(min(price) * .9);"
   ]
  },
  {
   "cell_type": "markdown",
   "metadata": {},
   "source": [
    "##### Stacked Area Chart"
   ]
  },
  {
   "cell_type": "markdown",
   "metadata": {},
   "source": [
    "Similar to stacked bar charts, but for continously-indexed series:"
   ]
  },
  {
   "cell_type": "code",
   "execution_count": null,
   "metadata": {},
   "outputs": [],
   "source": [
    "years = [2015, 2016, 2017, 2018, 2019, 2020]\n",
    "price = [  70,   72,   79,   80,   85,   77]\n",
    "tax   = [   2,    4,    3,    9,    1,    2]"
   ]
  },
  {
   "cell_type": "code",
   "execution_count": null,
   "metadata": {},
   "outputs": [],
   "source": [
    "plt.stackplot(years, price, tax, \n",
    "              labels=['price', 'tax'])\n",
    "\n",
    "plt.ylim(min(price) * .9)\n",
    "plt.legend();"
   ]
  },
  {
   "cell_type": "markdown",
   "metadata": {},
   "source": [
    "### Customization"
   ]
  },
  {
   "cell_type": "markdown",
   "metadata": {},
   "source": [
    "Matplotlib features a wealth of customization options, which allow you to draw plots just the way you need them. All of the options in the following sub-sections can be combined together."
   ]
  },
  {
   "cell_type": "markdown",
   "metadata": {},
   "source": [
    "#### Line Properties"
   ]
  },
  {
   "cell_type": "markdown",
   "metadata": {},
   "source": [
    "Common line (trace) options:"
   ]
  },
  {
   "cell_type": "code",
   "execution_count": null,
   "metadata": {},
   "outputs": [],
   "source": [
    "xs = np.linspace(-np.pi, np.pi, num=50)\n",
    "ys = np.sin(xs)\n",
    "\n",
    "plt.plot(\n",
    "    xs,\n",
    "    ys,\n",
    "\n",
    "    color='C3',\n",
    "    linestyle='--',\n",
    "    linewidth=3,\n",
    ");"
   ]
  },
  {
   "cell_type": "markdown",
   "metadata": {},
   "source": [
    "Options can also be quickly given in short-form:"
   ]
  },
  {
   "cell_type": "code",
   "execution_count": null,
   "metadata": {},
   "outputs": [],
   "source": [
    "x = [1, 2, 4]\n",
    "y = [5, 4, 7]"
   ]
  },
  {
   "cell_type": "code",
   "execution_count": null,
   "metadata": {},
   "outputs": [],
   "source": [
    "plt.plot(x, y, 'g--', lw=3);  # green, dashed line, width of 3"
   ]
  },
  {
   "cell_type": "markdown",
   "metadata": {},
   "source": [
    "Default color palette:"
   ]
  },
  {
   "cell_type": "markdown",
   "metadata": {},
   "source": [
    "\n",
    "![pic](https://i.imgur.com/aGT8APH.png)"
   ]
  },
  {
   "cell_type": "markdown",
   "metadata": {},
   "source": [
    "**👾 Trivia**: the default color palette is designed to both readable, pleasing and have distinctive colors. It was originally developed at [Tableau](https://www.tableau.com), a powerful standalone data visualization suite. You can find out more about the choice of default style in Matplotlib [here](https://www.youtube.com/watch?v=xAoljeRJ3lU)."
   ]
  },
  {
   "cell_type": "markdown",
   "metadata": {},
   "source": [
    "#### Marker Properties"
   ]
  },
  {
   "cell_type": "markdown",
   "metadata": {},
   "source": [
    "Common marker (points) options. Every property can be constant, the same for all points (like `alpha`, `marker` or `edgecolor` below) or per-point (like `s` or `color` below):"
   ]
  },
  {
   "cell_type": "code",
   "execution_count": null,
   "metadata": {},
   "outputs": [],
   "source": [
    "n_points = 20\n",
    "plt.scatter(\n",
    "    x=np.random.randn(n_points), \n",
    "    y=np.random.randn(n_points), \n",
    "    \n",
    "    s=np.random.uniform(100, 1_000, n_points), # size\n",
    "    color=np.random.choice(['C0', 'C1'], n_points),\n",
    "    \n",
    "    alpha=.3,  # transparency\n",
    "    marker='p',  # pentagon\n",
    "    edgecolor='gray',\n",
    ");"
   ]
  },
  {
   "cell_type": "markdown",
   "metadata": {},
   "source": [
    "**👾 Trivia**: both the American and British spellings of `gray`/`grey`. XKCD (the web-comic maker) ran a survey to see what labels do people assign to various colors. Read about the [results](https://blog.xkcd.com/2010/05/03/color-survey-results/) or explore them in this [interactive visualization](https://colors.luminoso.com)."
   ]
  },
  {
   "cell_type": "markdown",
   "metadata": {},
   "source": [
    "---"
   ]
  },
  {
   "cell_type": "markdown",
   "metadata": {},
   "source": [
    "Markers can also be displayed for line plots (all previous options apply as well):"
   ]
  },
  {
   "cell_type": "code",
   "execution_count": null,
   "metadata": {},
   "outputs": [],
   "source": [
    "plt.plot(x, y, marker='o');  # circular markers"
   ]
  },
  {
   "cell_type": "markdown",
   "metadata": {},
   "source": [
    "**ℹ️ Tip**: all available marker shapes are listed [here](https://matplotlib.org/api/markers_api.html)"
   ]
  },
  {
   "cell_type": "markdown",
   "metadata": {},
   "source": [
    "#### Figure Properties"
   ]
  },
  {
   "cell_type": "markdown",
   "metadata": {},
   "source": [
    "Nearly every element of the chart can be customized."
   ]
  },
  {
   "cell_type": "markdown",
   "metadata": {},
   "source": [
    "The vanilla chart:"
   ]
  },
  {
   "cell_type": "code",
   "execution_count": null,
   "metadata": {},
   "outputs": [],
   "source": [
    "plt.plot(x, y);"
   ]
  },
  {
   "cell_type": "markdown",
   "metadata": {},
   "source": [
    "Customized and labeled:"
   ]
  },
  {
   "cell_type": "code",
   "execution_count": null,
   "metadata": {},
   "outputs": [],
   "source": [
    "plt.plot([2, 1450, 18400, 5700, 9000], label='Line name')\n",
    "\n",
    "plt.title('Figure Title')\n",
    "plt.legend(title='Legend title', loc='lower right')\n",
    "\n",
    "plt.xlabel('X-axis label')\n",
    "plt.ylabel('Y-axis label')\n",
    "\n",
    "plt.grid(alpha=.25)\n",
    "plt.gca().set_yscale('log')\n",
    "\n",
    "plt.gca().set_xticklabels([f'{x:.0%}' for x in plt.gca().get_xticks()], rotation=45);"
   ]
  },
  {
   "cell_type": "markdown",
   "metadata": {},
   "source": [
    "**ℹ️ Tip**: refer to the [Parts of a Figure](https://matplotlib.org/tutorials/introductory/usage.html#parts-of-a-figure) for more detailed descriptions about each part of the figure:"
   ]
  },
  {
   "cell_type": "markdown",
   "metadata": {},
   "source": [
    "![pic](https://matplotlib.org/_images/anatomy.png)"
   ]
  },
  {
   "cell_type": "markdown",
   "metadata": {},
   "source": [
    "**ℹ️ Tip**: aim for a high [ink-to-data ratio](https://infovis-wiki.net/wiki/Data-Ink_Ratio), avoid over-encumbering the chart with too many elements."
   ]
  },
  {
   "cell_type": "markdown",
   "metadata": {},
   "source": [
    "**ℹ️ Tip**: don't let the audience guess what the data represents. Annotate charts with a title and axis labels at the least. If a person randomly opens the book and lands on your chart, they should be able to understand what's going on. If possible, add a short description and an accompanying conclusion.\n",
    "\n",
    "**ALWAYS PROVIDE LABELS!**"
   ]
  },
  {
   "cell_type": "markdown",
   "metadata": {},
   "source": [
    "---"
   ]
  },
  {
   "cell_type": "markdown",
   "metadata": {},
   "source": [
    "**ℹ️ Tip**: remove just tick markers and labels (not axis labels or grids) with `plt.xticks([])`."
   ]
  },
  {
   "cell_type": "markdown",
   "metadata": {},
   "source": [
    "#### Axes Limits"
   ]
  },
  {
   "cell_type": "markdown",
   "metadata": {},
   "source": [
    "Change axes limits with `plt.xlim`/`plt.ylim`"
   ]
  },
  {
   "cell_type": "code",
   "execution_count": null,
   "metadata": {},
   "outputs": [],
   "source": [
    "from matplotlib.ticker import FuncFormatter\n",
    "\n",
    "def plot_companies_worth():\n",
    "    plt.bar(companies, valuation)\n",
    "    plt.ylabel('Worth (billions)')\n",
    "    \n",
    "    formatter = FuncFormatter(lambda y, pos: f'${y:.0f}')\n",
    "    plt.gca().locator_params(axis='y', nbins=5)  # number of ticks\n",
    "    plt.gca().yaxis.set_major_formatter(formatter)  # tick label format"
   ]
  },
  {
   "cell_type": "markdown",
   "metadata": {},
   "source": [
    "**ℹ️ Tip**: you can also provide a formatter for the tick labels, and specify the number of ticks (shown in the example above), or specify the spacing between ticks (`ax.yaxis.set_major_locator(matplotlib.ticker.MultipleLocator(tick_spacing)`)."
   ]
  },
  {
   "cell_type": "code",
   "execution_count": null,
   "metadata": {},
   "outputs": [],
   "source": [
    "plot_companies_worth()\n",
    "plt.title('Zero-baselined')\n",
    "plt.show()\n",
    "\n",
    "plot_companies_worth()\n",
    "plt.title('Truncated')\n",
    "plt.ylim(23);"
   ]
  },
  {
   "cell_type": "markdown",
   "metadata": {},
   "source": [
    "**ℹ️ Tip**: Bar charts ask viewers compare the relative lengths. Showing just the tips of the bars to exaggerate differences in the data, their relative lengths changes. So people are either misled and take away the wrong message, or end up having to read the numbers, which defeats the purpose of the chart. There are exceptions."
   ]
  },
  {
   "cell_type": "markdown",
   "metadata": {},
   "source": [
    "The issue is even more pronounced when non-abstract figures are presented. For example, the average Dutch person is not three times as tall as the average Filipino:"
   ]
  },
  {
   "cell_type": "markdown",
   "metadata": {},
   "source": [
    "![img](https://i.redd.it/tvxqbdux6uqz.jpg)"
   ]
  },
  {
   "cell_type": "markdown",
   "metadata": {},
   "source": [
    "Ineffective tick labels might as well not be written at all:"
   ]
  },
  {
   "cell_type": "code",
   "execution_count": null,
   "metadata": {},
   "outputs": [],
   "source": [
    "plt.bar(companies, np.array(valuation) * 1_000_000_000)\n",
    "\n",
    "plt.gca().set_yticklabels([f'{x:.3f}' for x in plt.gca().get_yticks()])\n",
    "plt.ylabel('dollars');"
   ]
  },
  {
   "cell_type": "markdown",
   "metadata": {},
   "source": [
    "**ℹ️ Tip**: provide effective labels:\n",
    "- do not mistake the measurement with the units — in the above example, we are showing the _worth_, not the _dollars_ for each company.\n",
    "- declutter the tick marks, while provide the same information — in the above example, since all valuations are provided in billions, it is easier to specify it in the axis label\n",
    "- show appropriate units on the tick labels (e.g.: `$`, `★`, etc)\n",
    "- show percentage values as percentages (e.g.: show `50%` instead of the way it is stored, `0.5`)\n",
    "- show an appropriate amount of decimals — more decimal digits might indicate more precision, but they reduce readability without adding actual value\n",
    "- sometimes it is useful to provide the value labels at the top of each bar\n",
    "- capitalize axes labels like you would table headers (capitalize first word)"
   ]
  },
  {
   "cell_type": "markdown",
   "metadata": {},
   "source": [
    "#### Aspect Ratio"
   ]
  },
  {
   "cell_type": "markdown",
   "metadata": {},
   "source": [
    "Change the figure size (and aspect ratio):"
   ]
  },
  {
   "cell_type": "code",
   "execution_count": null,
   "metadata": {},
   "outputs": [],
   "source": [
    "def plot_price_evolution():\n",
    "    plt.plot(years, price)\n",
    "    plt.gca().set_yticklabels([f'${y:.0f}' for y in plt.gca().get_yticks()])\n",
    "    plt.ylabel('Price')"
   ]
  },
  {
   "cell_type": "code",
   "execution_count": null,
   "metadata": {},
   "outputs": [],
   "source": [
    "plt.figure(figsize=(3, 7))  # in \"inches\"\n",
    "plot_price_evolution()\n",
    "plt.title('Elongated')\n",
    "\n",
    "plt.figure(figsize=(8, 1.5))\n",
    "plot_price_evolution()\n",
    "plt.title('Widened');"
   ]
  },
  {
   "cell_type": "markdown",
   "metadata": {},
   "source": [
    "**ℹ️ Tip**: Line charts show a trend. Stretching the height of the graph can overblow the message, while stretching the width can understate it. This leads to misleading the audience."
   ]
  },
  {
   "cell_type": "markdown",
   "metadata": {},
   "source": [
    "### Multiple Plots"
   ]
  },
  {
   "cell_type": "markdown",
   "metadata": {},
   "source": [
    "Chart multiple sets of data at once, either in the same figure, different ones, or composite figures."
   ]
  },
  {
   "cell_type": "markdown",
   "metadata": {},
   "source": [
    "#### Same figure"
   ]
  },
  {
   "cell_type": "markdown",
   "metadata": {},
   "source": [
    "Plot multiple lines/points in a single figure by placing multiple statements in the same cell (or between `plt.show()` calls):"
   ]
  },
  {
   "cell_type": "code",
   "execution_count": null,
   "metadata": {},
   "outputs": [],
   "source": [
    "plt.plot([0, 9])\n",
    "# plt.scatter([1, 4, 2, 3], [2, 1, 4, 5])\n",
    "plt.plot([5, 2]);"
   ]
  },
  {
   "cell_type": "code",
   "execution_count": null,
   "metadata": {},
   "outputs": [],
   "source": [
    "plt.plot([0, 9])\n",
    "plt.show()\n",
    "plt.plot([5, 2]);"
   ]
  },
  {
   "cell_type": "markdown",
   "metadata": {},
   "source": [
    "#### Multiple Figures"
   ]
  },
  {
   "cell_type": "markdown",
   "metadata": {},
   "source": [
    "Preserve the same Y-axis limits:"
   ]
  },
  {
   "cell_type": "code",
   "execution_count": null,
   "metadata": {},
   "outputs": [],
   "source": [
    "plt.plot([0, 9])\n",
    "y_limits = plt.ylim()\n",
    "plt.show()\n",
    "\n",
    "plt.ylim(y_limits)\n",
    "plt.plot([5, 2], c='C1');"
   ]
  },
  {
   "cell_type": "markdown",
   "metadata": {},
   "source": [
    "#### Subplots"
   ]
  },
  {
   "cell_type": "markdown",
   "metadata": {},
   "source": [
    "A figure is composed of one or more axes. When only one is present, `plt.` refers to it, otherwise it refers to the current figure & axis. You can get the figure & axis handles either by instantiating a new figure with `fig = plt.figure()`, creating subplots (see below) or directly from traces, `ax = plt.plot(...)`."
   ]
  },
  {
   "cell_type": "code",
   "execution_count": null,
   "metadata": {},
   "outputs": [],
   "source": [
    "fig, (ax1, ax2) = plt.subplots(nrows=1, ncols=2, \n",
    "                               sharey=True, # size of the entire figure, not of individual plots\n",
    "                               figsize=(12, 4))\n",
    "\n",
    "ax1.plot([0, 9])  # note that we plot using `ax.plot` not `plt.plot`\n",
    "ax2.plot([5, 2], c='C1')\n",
    "\n",
    "plt.subplots_adjust(wspace=.3)\n",
    "\n",
    "ax1.set_title('Left Title')  # note the slightly changed syntax `ax.set_title(...)` instead of `plt.title(...)`\n",
    "ax2.set_title('Right Title')\n",
    "plt.suptitle('Super Title');"
   ]
  },
  {
   "cell_type": "markdown",
   "metadata": {},
   "source": [
    "**ℹ️ Tip**: get the current axis with `plt.gca()` and the current figure with `plt.gcf()`."
   ]
  },
  {
   "cell_type": "markdown",
   "metadata": {},
   "source": [
    "Alternatively, in short-form:"
   ]
  },
  {
   "cell_type": "code",
   "execution_count": null,
   "metadata": {},
   "outputs": [],
   "source": [
    "plt.subplot(1, 2, 1)  # now it's `subplot`, not `subplots`\n",
    "plt.plot([0, 9])  # now it's `plt.plot`\n",
    "plt.title('Left Title')\n",
    "\n",
    "plt.subplot(122)  # can be compacted into a single number (when coordinates are below 10)\n",
    "plt.plot([5, 2], c='C1');\n",
    "plt.title('Right Title')\n",
    "\n",
    "plt.suptitle('Super Title');"
   ]
  },
  {
   "cell_type": "markdown",
   "metadata": {},
   "source": [
    "The following diagrams helps visualize how `subplot` operates:\n",
    "\n",
    "- Single row:\n",
    "\n",
    "![2](http://scipy-lectures.org/_images/sphx_glr_plot_subplot-vertical_001.png)\n",
    "\n",
    "\n",
    "- Single column: \n",
    "\n",
    "![1](http://scipy-lectures.org/_images/sphx_glr_plot_subplot-horizontal_001.png) \n",
    "\n",
    "\n",
    "- Multiple rows and columns:\n",
    "\n",
    "![3](http://scipy-lectures.org/_images/sphx_glr_plot_subplot-grid_001.png)"
   ]
  },
  {
   "cell_type": "markdown",
   "metadata": {},
   "source": [
    "**ℹ️ Tip**: read more about [working with multiple figures and axes](https://matplotlib.org/tutorials/introductory/pyplot.html#working-with-multiple-figures-and-axes)."
   ]
  },
  {
   "cell_type": "markdown",
   "metadata": {},
   "source": [
    "#### Twin Axes"
   ]
  },
  {
   "cell_type": "markdown",
   "metadata": {},
   "source": [
    "Plot two sets of data on completely different scales:"
   ]
  },
  {
   "cell_type": "code",
   "execution_count": null,
   "metadata": {},
   "outputs": [],
   "source": [
    "x = np.linspace(0, 10, 100)\n",
    "y1 = np.exp(x)\n",
    "y2 = np.sin(x)\n",
    "\n",
    "fig, ax1 = plt.subplots()\n",
    "ax2 = ax1.twinx()\n",
    "\n",
    "ax1.plot(x, y1, 'C0')\n",
    "ax1.set_ylabel('exp', color='C0')\n",
    "ax1.tick_params('y', colors='C0')\n",
    "\n",
    "ax2.plot(x, y2, 'C3')\n",
    "ax2.set_ylabel('sin', color='C3')\n",
    "ax2.tick_params('y', colors='C3')"
   ]
  },
  {
   "cell_type": "markdown",
   "metadata": {},
   "source": [
    "**ℹ️ Tip**: charting with two different scales can be confusing and suggest a relationship that may not exist. The viewer compares the magnitude of values between the two sets of data, which is meaningless given that the scales (and potentially units) are different."
   ]
  },
  {
   "cell_type": "markdown",
   "metadata": {},
   "source": [
    "**👾 Trivia**: check out more (oftentimes humorous) [spurious correlations](http://www.tylervigen.com/spurious-correlations) such as this one:"
   ]
  },
  {
   "cell_type": "markdown",
   "metadata": {},
   "source": [
    "![a](http://www.tylervigen.com/chart-pngs/2.png)"
   ]
  },
  {
   "cell_type": "markdown",
   "metadata": {},
   "source": [
    "### The Effectiveness of Simplicity"
   ]
  },
  {
   "cell_type": "markdown",
   "metadata": {},
   "source": [
    "Simplicity is the most effective way to convey your message. Remove anything that doesn't support the message and design for comprehension. \n",
    "\n",
    "\n",
    "Matplotlib provides sensible defaults, but exessive coloring and other customizations can still degrade a chart. While it is true that an attractive visualization causes better audience engagement and increases openness to the message conveyed, it should never be preferred over readability.\n",
    "\n",
    "In particular, depth effects and meaningless colors only make the information harder to read, for example this chart:"
   ]
  },
  {
   "cell_type": "markdown",
   "metadata": {},
   "source": [
    "![pic](https://i.imgur.com/vjGI5yO.jpg)"
   ]
  },
  {
   "cell_type": "markdown",
   "metadata": {},
   "source": [
    "The above chart can be improved significantly:\n",
    " - flatten\n",
    " - drop meaningless colors\n",
    " - order X-axis chronologically\n",
    " - do not duplicate X-axis values, make groups (day/night)\n",
    " - provide Y-axis meaning and units"
   ]
  },
  {
   "cell_type": "code",
   "execution_count": null,
   "metadata": {},
   "outputs": [],
   "source": [
    "df = pd.DataFrame({\n",
    "    'systolic':  [116, 122, 124, 112, 124],\n",
    "    'diastolic': [ 72,  76,  82,  76,  76],\n",
    "}, index=['Mar 15', 'Mar 16', 'Jun 15', 'Jun 17', 'Aug 15'])\n",
    "\n",
    "df.plot(kind='bar', rot=0)\n",
    "plt.title('Blood Pressure over Time')\n",
    "plt.ylabel('Blood pressure (mm Hg)')\n",
    "plt.gca().legend(bbox_to_anchor=(1.025, 1));"
   ]
  },
  {
   "cell_type": "markdown",
   "metadata": {},
   "source": [
    "We could go even further, using twin axes, with scale of the normal range."
   ]
  },
  {
   "cell_type": "markdown",
   "metadata": {},
   "source": [
    "**ℹ️ Tip**: by default, the legend is placed in the location with the most available whitespace. Manually place it it (even outside of the figure) by specifying the top-left coordinate of the legend box (in terms of figure width and height, with `(0, 0)` being bottom left)."
   ]
  },
  {
   "cell_type": "markdown",
   "metadata": {},
   "source": [
    "**👾 Trivia**: if you'd like to try spotting some of these errors yourself, check out [this gallery](https://old.reddit.com/r/dataisugly/top/?t=all) of bad visualizations."
   ]
  },
  {
   "cell_type": "markdown",
   "metadata": {},
   "source": [
    "---"
   ]
  },
  {
   "cell_type": "markdown",
   "metadata": {},
   "source": [
    "Save a figure to disk `plt.savefig(path, dpi, format)`, or drag-n-drop it directly from the Jupyter interface."
   ]
  },
  {
   "cell_type": "markdown",
   "metadata": {},
   "source": [
    "## Further reading\n",
    "\n",
    " - Matplotlib tutorials:\n",
    "  - [official crash course](https://matplotlib.org/users/pyplot_tutorial.html)\n",
    "  - [official, in-depth](https://matplotlib.org/tutorials/index.html)\n",
    "  - [unofficial](https://www.labri.fr/perso/nrougier/teaching/matplotlib/), based on the one [from scipy](http://scipy-lectures.org/intro/matplotlib/matplotlib.html)\n",
    " - Python Data Visualization Packages: [talk](https://www.youtube.com/watch?v=FytuB8nFHPQ)\n",
    " - Python Graphs: [gallery](https://python-graph-gallery.com) (not exclusively Matplotlib/Seaborn)\n",
    " - Articles providing concise and useful tips and caveats:\n",
    "  - https://www.geckoboard.com/learn/data-literacy/data-visualization-tips/\n",
    "  - https://www.data-to-viz.com/caveats.html\n",
    "  - https://www.columnfivemedia.com/25-tips-to-upgrade-your-data-visualization-design\n",
    "  - https://www.lovesdata.com/blog/data-visualization-tips\n",
    "  - https://www.tableau.com/about/blog/2016/5/5-tips-effective-visual-data-communication-54174\n",
    "  - https://www.dataquest.io/blog/design-tips-for-data-viz/\n",
    " - Collections of beautiful, effective visualizations:\n",
    "  - [Flowing Data](https://flowingdata.com)\n",
    "  - [r/DataIsBeautiful](https://www.reddit.com/r/dataisbeautiful/top/?sort=top&t=all) (user voted)\n",
    "  - [Tableau Gallery](https://public.tableau.com/en-us/s/gallery) (more intricate)\n",
    "  - [The Pudding](https://pudding.cool) (visual essays)\n",
    "  - [Seeing Theory](https://seeing-theory.brown.edu) (visual introduction to probability and statistics)\n",
    " - Books:\n",
    "  - [Edward Tufte](https://www.edwardtufte.com/tufte/books_vdqi) (renown statistician and data visualization pioneer)\n",
    "  - [How to Lie with Statistics](https://www.amazon.com/How-Lie-Statistics-Darrell-Huff/dp/0393310728) (explores mis-uses of data visualizations)\n",
    "  - [Universal Principles of Design](https://www.amazon.com/Universal-Principles-Design-William-Lidwell/dp/1592530079) (pertaining to an abundance of fields and contexts, not just data visualization)"
   ]
  }
 ],
 "metadata": {
  "kernelspec": {
   "display_name": "Python 3",
   "language": "python",
   "name": "python3"
  },
  "language_info": {
   "codemirror_mode": {
    "name": "ipython",
    "version": 3
   },
   "file_extension": ".py",
   "mimetype": "text/x-python",
   "name": "python",
   "nbconvert_exporter": "python",
   "pygments_lexer": "ipython3",
   "version": "3.7.0"
  }
 },
 "nbformat": 4,
 "nbformat_minor": 2
}
