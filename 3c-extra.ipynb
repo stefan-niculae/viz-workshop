{
 "cells": [
  {
   "cell_type": "markdown",
   "metadata": {},
   "source": [
    "## 3c. More ways to plot"
   ]
  },
  {
   "cell_type": "markdown",
   "metadata": {},
   "source": [
    "### Table of contents\n",
    "\n",
    "- Pandas\n",
    "  - Plotting Shortcuts\n",
    "  - Table Styling\n",
    "\n",
    "\n",
    "- Other Packages\n",
    "  - Venn Diagrams\n",
    "  - Joyplots\n",
    "  - Network Graphs\n",
    "  - More Types"
   ]
  },
  {
   "cell_type": "markdown",
   "metadata": {},
   "source": [
    "---"
   ]
  },
  {
   "cell_type": "code",
   "execution_count": null,
   "metadata": {},
   "outputs": [],
   "source": [
    "import pandas as pd  # we'll use pandas to read and manipulate datasets\n",
    "import numpy as np\n",
    "\n",
    "import warnings\n",
    "warnings.simplefilter('ignore')\n",
    "\n",
    "import matplotlib.pyplot as plt\n",
    "# display figures alongside cell output\n",
    "%matplotlib inline\n",
    "\n",
    "import matplotlib"
   ]
  },
  {
   "cell_type": "markdown",
   "metadata": {},
   "source": [
    "**ℹ️ Tip**: it's not by mistake that the following cell is separate from the previous. There is a small bug that causes it not to be executed correctly if they are ran at the same time. This is not limited to Jupyter notebooks."
   ]
  },
  {
   "cell_type": "code",
   "execution_count": null,
   "metadata": {},
   "outputs": [],
   "source": [
    "matplotlib.rcParams['figure.dpi'] = 100  # make figures large\n",
    "%config InlineBackend.figure_format = 'retina'  # make figures crisp"
   ]
  },
  {
   "cell_type": "markdown",
   "metadata": {},
   "source": [
    "## Pandas"
   ]
  },
  {
   "cell_type": "markdown",
   "metadata": {},
   "source": [
    "The average daily temperature from Jan 2018 to Jan 2019, as reported by AccuWeather:"
   ]
  },
  {
   "cell_type": "code",
   "execution_count": null,
   "metadata": {},
   "outputs": [],
   "source": [
    "weather = pd.read_csv('example_files/weather.csv')\n",
    "weather.head()"
   ]
  },
  {
   "cell_type": "code",
   "execution_count": null,
   "metadata": {},
   "outputs": [],
   "source": [
    "month_names = 'January February March April May June July August September Octomber November December'.split()\n",
    "cities = ['New York City', 'Los Angeles']"
   ]
  },
  {
   "cell_type": "markdown",
   "metadata": {},
   "source": [
    "### Plotting Shortcuts"
   ]
  },
  {
   "cell_type": "markdown",
   "metadata": {},
   "source": [
    "Pandas DataFrames integrates directly with Matplotlib, providing convenient plotting shortcuts:"
   ]
  },
  {
   "cell_type": "code",
   "execution_count": null,
   "metadata": {},
   "outputs": [],
   "source": [
    "weather[weather.month == 1][cities].plot()\n",
    "\n",
    "# continue customizing the chart\n",
    "plt.title('January Temperature')\n",
    "plt.xlabel('Day of Month')\n",
    "plt.ylabel('Temperature (°F)');"
   ]
  },
  {
   "cell_type": "markdown",
   "metadata": {},
   "source": [
    "They make labeling, grouping and other tedious tasks easier:"
   ]
  },
  {
   "cell_type": "code",
   "execution_count": null,
   "metadata": {},
   "outputs": [],
   "source": [
    "weather.groupby('month')[cities].mean().plot(\n",
    "    kind='barh',  # horizontal bar chart\n",
    "    figsize=(4, 7),\n",
    "    title='Average Temperatures',\n",
    ")\n",
    "\n",
    "plt.gca().set_yticklabels(month_names)\n",
    "plt.gca().legend(bbox_to_anchor=(1.025, 1))\n",
    "plt.xlabel('Temperature (°F)');"
   ]
  },
  {
   "cell_type": "markdown",
   "metadata": {},
   "source": [
    "Most non-specialty chart types are supported:"
   ]
  },
  {
   "cell_type": "code",
   "execution_count": null,
   "metadata": {},
   "outputs": [],
   "source": [
    "weather['Los Angeles'].plot(kind='hist')\n",
    "\n",
    "plt.title('Year-long Temperature Distribution')\n",
    "plt.xlabel('Temperature (°F)')\n",
    "plt.ylabel('#Days observed');"
   ]
  },
  {
   "cell_type": "markdown",
   "metadata": {},
   "source": [
    "**ℹ️ Tip**: [read more](https://pandas.pydata.org/pandas-docs/stable/reference/api/pandas.DataFrame.plot.html) about supported chart types and options"
   ]
  },
  {
   "cell_type": "markdown",
   "metadata": {},
   "source": [
    "### Table Styling"
   ]
  },
  {
   "cell_type": "markdown",
   "metadata": {},
   "source": [
    "Lightweight visualizations can also be incorporated directly inside tables"
   ]
  },
  {
   "cell_type": "code",
   "execution_count": null,
   "metadata": {},
   "outputs": [],
   "source": [
    "df = pd.DataFrame(np.random.randn(7, 3), columns=list('ABC'))\n",
    "df.iloc[1, 1] = np.nan\n",
    "\n",
    "df"
   ]
  },
  {
   "cell_type": "markdown",
   "metadata": {},
   "source": [
    "Set a caption for your table:"
   ]
  },
  {
   "cell_type": "code",
   "execution_count": null,
   "metadata": {},
   "outputs": [],
   "source": [
    "df.style.set_caption('Example Data')"
   ]
  },
  {
   "cell_type": "markdown",
   "metadata": {},
   "source": [
    "Modify the precision:"
   ]
  },
  {
   "cell_type": "code",
   "execution_count": null,
   "metadata": {},
   "outputs": [],
   "source": [
    "df.round(3)"
   ]
  },
  {
   "cell_type": "markdown",
   "metadata": {},
   "source": [
    "Set global options:"
   ]
  },
  {
   "cell_type": "code",
   "execution_count": null,
   "metadata": {},
   "outputs": [],
   "source": [
    "pd.set_option('precision', 2)"
   ]
  },
  {
   "cell_type": "markdown",
   "metadata": {},
   "source": [
    "**ℹ️ Tip**: [read more](https://pandas.pydata.org/pandas-docs/stable/user_guide/options.html) about Pandas options"
   ]
  },
  {
   "cell_type": "markdown",
   "metadata": {},
   "source": [
    "---"
   ]
  },
  {
   "cell_type": "markdown",
   "metadata": {},
   "source": [
    "Change the style of specific elements:"
   ]
  },
  {
   "cell_type": "code",
   "execution_count": null,
   "metadata": {},
   "outputs": [],
   "source": [
    "df.style.highlight_null()"
   ]
  },
  {
   "cell_type": "markdown",
   "metadata": {},
   "source": [
    "Restrict to only a subset of rows/columns:"
   ]
  },
  {
   "cell_type": "code",
   "execution_count": null,
   "metadata": {},
   "outputs": [],
   "source": [
    "df.style.highlight_max(subset=['A', 'B'], axis=0)"
   ]
  },
  {
   "cell_type": "markdown",
   "metadata": {},
   "source": [
    "Arbitrary functions and function chaining:"
   ]
  },
  {
   "cell_type": "code",
   "execution_count": null,
   "metadata": {},
   "outputs": [],
   "source": [
    "def highlight_negatives(val):\n",
    "    \"\"\" Make negative values bold red \"\"\"\n",
    "    color = 'red' if val < 0 else 'black'\n",
    "    weight = 'bold' if val < 0 else 'normal'\n",
    "    return f'color: {color}; font-weight: {weight}'  # css syntax"
   ]
  },
  {
   "cell_type": "code",
   "execution_count": null,
   "metadata": {},
   "outputs": [],
   "source": [
    "df.style\\\n",
    "    .set_precision(3)\\\n",
    "    .applymap(highlight_negatives)"
   ]
  },
  {
   "cell_type": "markdown",
   "metadata": {},
   "source": [
    "---"
   ]
  },
  {
   "cell_type": "markdown",
   "metadata": {},
   "source": [
    "Even inline charts:"
   ]
  },
  {
   "cell_type": "code",
   "execution_count": null,
   "metadata": {},
   "outputs": [],
   "source": [
    "df.style.bar(subset='C')"
   ]
  },
  {
   "cell_type": "code",
   "execution_count": null,
   "metadata": {},
   "outputs": [],
   "source": [
    "df.style.background_gradient(cmap='Greens')"
   ]
  },
  {
   "cell_type": "markdown",
   "metadata": {},
   "source": [
    "**ℹ️ Tip**: read more about [table styling](https://pandas.pydata.org/pandas-docs/stable/user_guide/style.html)"
   ]
  },
  {
   "cell_type": "markdown",
   "metadata": {},
   "source": [
    "**ℹ️ Tip**: watch a [short animation](http://i.imgur.com/ZY8dKpA.gif) on (slightly overdone) table styling"
   ]
  },
  {
   "cell_type": "markdown",
   "metadata": {},
   "source": [
    "## Other Packages"
   ]
  },
  {
   "cell_type": "markdown",
   "metadata": {},
   "source": [
    "While Matplotlib is the most widely used library (seconded by Seaborn), there are many other ones, most with overlapping functionality (line, bar charts etc). But there are also those that offer specific kinds of visualizations"
   ]
  },
  {
   "cell_type": "markdown",
   "metadata": {},
   "source": [
    "### Venn Diagrams"
   ]
  },
  {
   "cell_type": "markdown",
   "metadata": {},
   "source": [
    "Show logical relations between a finite collection of sets:"
   ]
  },
  {
   "cell_type": "code",
   "execution_count": null,
   "metadata": {},
   "outputs": [],
   "source": [
    "from matplotlib_venn import venn2"
   ]
  },
  {
   "cell_type": "code",
   "execution_count": null,
   "metadata": {},
   "outputs": [],
   "source": [
    "venn2(subsets = (10, 5, 2), set_labels = ('Group A', 'Group B'));"
   ]
  },
  {
   "cell_type": "markdown",
   "metadata": {},
   "source": [
    "### Joyplots"
   ]
  },
  {
   "cell_type": "markdown",
   "metadata": {},
   "source": [
    "Joyplots show distributions over an ordinal variable or discretized time:"
   ]
  },
  {
   "cell_type": "code",
   "execution_count": null,
   "metadata": {},
   "outputs": [],
   "source": [
    "from joypy import joyplot"
   ]
  },
  {
   "cell_type": "markdown",
   "metadata": {},
   "source": [
    "**👾 Trivia**: they got their name from Joy Division's [album](https://itunes.apple.com/us/album/unknown-pleasures-remastered/544363171) that used such a plot on as their cover. Otherwise known as a ridgeplot. More recently popularized by Tensorflow's display of weights distributions over time."
   ]
  },
  {
   "cell_type": "code",
   "execution_count": null,
   "metadata": {},
   "outputs": [],
   "source": [
    "fig, axes = joyplot(\n",
    "    weather, by='month', column=['New York City', 'Los Angeles'],\n",
    "    alpha=.75, range_style='own', grid='y', linecolor='white', \n",
    "    figsize=(8, 10), title='Monthly Temperature', legend=True,\n",
    ")\n",
    "\n",
    "axes[-1].set_xlabel('Temperature (°F)')\n",
    "for month, ax in zip(month_names, axes):\n",
    "    ax.set_yticklabels([month])"
   ]
  },
  {
   "cell_type": "markdown",
   "metadata": {},
   "source": [
    "### Network Graphs"
   ]
  },
  {
   "cell_type": "markdown",
   "metadata": {},
   "source": [
    "NetworkX is the de-facto library for storing graphs"
   ]
  },
  {
   "cell_type": "code",
   "execution_count": null,
   "metadata": {},
   "outputs": [],
   "source": [
    "import networkx as nx"
   ]
  },
  {
   "cell_type": "markdown",
   "metadata": {},
   "source": [
    "Provides simple plotting:"
   ]
  },
  {
   "cell_type": "code",
   "execution_count": null,
   "metadata": {},
   "outputs": [],
   "source": [
    "G = nx.gnm_random_graph(7, 15)\n",
    "nx.draw(G)"
   ]
  },
  {
   "cell_type": "markdown",
   "metadata": {},
   "source": [
    "But also complex customizations:"
   ]
  },
  {
   "cell_type": "code",
   "execution_count": null,
   "metadata": {},
   "outputs": [],
   "source": [
    "%%time\n",
    "import requests\n",
    "# source: http://evelinag.com/blog/2015/12-15-star-wars-social-network/index.html#.XG0a7KeZPRZ\n",
    "r = requests.get('https://raw.githubusercontent.com/evelinag/StarWars-social-network/master/networks/starwars-episode-1-interactions-allCharacters.json')\n",
    "d = r.json()"
   ]
  },
  {
   "cell_type": "code",
   "execution_count": null,
   "metadata": {},
   "outputs": [],
   "source": [
    "G = nx.Graph()\n",
    "G.add_nodes_from((n['value'], n) \n",
    "                 for n in d['nodes'])\n",
    "G.add_weighted_edges_from([(n['source'], n['target'], n['value']) \n",
    "                           for n in d['links'] \n",
    "                           if n['source'] in G.nodes and n['target'] in G.nodes])"
   ]
  },
  {
   "cell_type": "code",
   "execution_count": null,
   "metadata": {},
   "outputs": [],
   "source": [
    "# data from Wookieepedia\n",
    "G.add_nodes_from([\n",
    "    (33, {'affiliation': 'Republic', 'species': 'mechanical'}),  # r2-d2\n",
    "    (6 , {'affiliation': 'Republic', 'species': 'mechanical'}),  # bravo 2\n",
    "    (4 , {'affiliation': 'Republic', 'species': 'mechanical'}),  # bravo 3\n",
    "    (31, {'affiliation': 'Republic', 'species': 'human'}),  # padme\n",
    "    (7 , {'affiliation': 'Republic', 'species': 'non-human'}),  # yoda    \n",
    "    \n",
    "    (19, {'affiliation': 'Empire', 'species': 'human'}),  # nute\n",
    "    (3 , {'affiliation': 'Empire', 'species': 'human'}),  # organa\n",
    "    (14, {'affiliation': 'Empire', 'species': 'human'}),  # emperor\n",
    "    (5 , {'affiliation': 'Empire', 'species': 'human'}),  # ceel\n",
    "\n",
    "    (11, {'affiliation': 'Neutral', 'species': 'human'}),  # shmi\n",
    "    (12, {'affiliation': 'Neutral', 'species': 'human'}),  # fode\n",
    "    (8 , {'affiliation': 'Neutral', 'species': 'non-human'}),  # watto\n",
    "])"
   ]
  },
  {
   "cell_type": "code",
   "execution_count": null,
   "metadata": {},
   "outputs": [],
   "source": [
    "G.remove_nodes_from([node for node, val in nx.get_node_attributes(G, 'value').items() if val == 0])\n",
    "G.remove_nodes_from([node for node, deg in G.degree if deg == 0])"
   ]
  },
  {
   "cell_type": "code",
   "execution_count": null,
   "metadata": {},
   "outputs": [],
   "source": [
    "print(nx.info(G))"
   ]
  },
  {
   "cell_type": "code",
   "execution_count": null,
   "metadata": {},
   "outputs": [],
   "source": [
    "species2shape = {\n",
    "    'mechanical': 's',  # square\n",
    "    'human':      'o',  # circle\n",
    "    'non-human':  '^',  # triangle\n",
    "}"
   ]
  },
  {
   "cell_type": "code",
   "execution_count": null,
   "metadata": {},
   "outputs": [],
   "source": [
    "affiliation2color = {\n",
    "    'Republic': 'C0',  # blue\n",
    "    'Empire':   'C3',  # red\n",
    "    'Neutral':  'C1',  # orange\n",
    "}"
   ]
  },
  {
   "cell_type": "code",
   "execution_count": null,
   "metadata": {},
   "outputs": [],
   "source": [
    "plt.figure(figsize=(10, 10))\n",
    "pos = nx.kamada_kawai_layout(G)\n",
    "\n",
    "\"\"\" Draw nodes \"\"\"\n",
    "for species, shape in species2shape.items():\n",
    "    species_nodes = [node \n",
    "                     for node, s in nx.get_node_attributes(G, 'species').items() \n",
    "                     if s == species]\n",
    "    node_sizes    = [c \n",
    "                     for n, c in nx.degree_centrality(G).items() \n",
    "                     if n in species_nodes]\n",
    "    node_colors   = [affiliation2color[aff] \n",
    "                     for n, aff in nx.get_node_attributes(G, 'affiliation').items() \n",
    "                     if n in species_nodes]\n",
    "    nx.draw_networkx_nodes(\n",
    "        G, \n",
    "        pos=pos,\n",
    "        nodelist=species_nodes,  # list nodes to plot\n",
    "        node_size=np.array(node_sizes) * 1500,  # list size of each node, in order\n",
    "        node_color=node_colors,  # list color of each node, in order\n",
    "        node_shape=shape,  # a single shape for all nodes (which is why this loop is needed)\n",
    "    )\n",
    "\n",
    "\n",
    "\"\"\" Draw labels\"\"\"\n",
    "label_pos  = {node: coords + [0, -.075]  # a bit lower than the coordinates of the node\n",
    "              for node, coords in pos.items()}\n",
    "label_text = {node: name.title() \n",
    "              for node, name in nx.get_node_attributes(G, 'name').items()}\n",
    "nx.draw_networkx_labels(\n",
    "    G, \n",
    "    pos=label_pos,  # the position of each node, as a dictionary\n",
    "    labels=label_text,  # the text of each node, as a dictionary\n",
    ")\n",
    "\n",
    "\n",
    "\"\"\" Draw edges \"\"\"\n",
    "edge_widths = list(nx.get_edge_attributes(G, 'weight').values())\n",
    "nx.draw_networkx_edges(\n",
    "    G, \n",
    "    pos=pos,\n",
    "    width=np.array(edge_widths) ** .4 * 3,  # raise to subunitary power to atenuate the large differences\n",
    "    edge_color='lightgray',\n",
    ")\n",
    "\n",
    "\n",
    "\"\"\" Figure settings \"\"\"\n",
    "# expand limits\n",
    "plt.ylim(plt.ylim()[0] - .1, plt.ylim()[1] + .1)\n",
    "plt.xlim(plt.xlim()[0] - .1, plt.xlim()[1] + .1)\n",
    "\n",
    "# hide axes\n",
    "plt.axis('off');"
   ]
  },
  {
   "cell_type": "markdown",
   "metadata": {},
   "source": [
    "**ℹ️ Tip**: learn more about NetworkX from the [official tutorial](https://networkx.github.io/documentation/stable/tutorial.html)"
   ]
  },
  {
   "cell_type": "markdown",
   "metadata": {},
   "source": [
    "### More Types"
   ]
  },
  {
   "cell_type": "markdown",
   "metadata": {},
   "source": [
    "The largest areas we haven't touched upon are interactive charts and map charts.  While this workshop focused on static charts, we can take advantage of the Jupyter environment and plot these as well. \n",
    "\n",
    " - more chart types: \n",
    "    - [3D scatterplot](https://plot.ly/python/3d-network-graph/) (navigatable)\n",
    "    - [sankey](https://plot.ly/python/parallel-categories-diagram/)\n",
    "    - [choropleth](https://plot.ly/python/maps/)\n",
    "    - [chord diagram](https://plot.ly/python/filled-chord-diagram/)\n",
    "    - [treemap](https://plot.ly/python/treemaps/)\n",
    "    - [wind rose](https://plot.ly/python/wind-rose-charts/)"
   ]
  }
 ],
 "metadata": {
  "kernelspec": {
   "display_name": "Python 3",
   "language": "python",
   "name": "python3"
  },
  "language_info": {
   "codemirror_mode": {
    "name": "ipython",
    "version": 3
   },
   "file_extension": ".py",
   "mimetype": "text/x-python",
   "name": "python",
   "nbconvert_exporter": "python",
   "pygments_lexer": "ipython3",
   "version": "3.7.0"
  }
 },
 "nbformat": 4,
 "nbformat_minor": 2
}
