{
 "cells": [
  {
   "cell_type": "markdown",
   "metadata": {},
   "source": [
    "# 4. Interactivity"
   ]
  },
  {
   "cell_type": "markdown",
   "metadata": {},
   "source": [
    "## 4a. Plotly\n",
    "\n",
    "**Installation**: run the following commands in a terminal (requires [Node](https://nodejs.org/en/download/)):\n",
    " 1. `export NODE_OPTIONS=--max-old-space-size=4096` (replace `export` with `set` on Windows)\n",
    " 2. `jupyter labextension install @jupyter-widgets/jupyterlab-manager@1.1 jupyterlab-plotly@1.5.1 plotlywidget@1.5.1 --no-build`\n",
    " 3. `jupyter lab build`\n",
    " \n",
    "See `1c-extra.ipynb` if you run into issues."
   ]
  },
  {
   "cell_type": "markdown",
   "metadata": {},
   "source": [
    "**Table of contents**\n",
    "- Basic charts\n",
    "- Why interactive?\n",
    "- Layouting\n",
    "- Styling\n",
    "- Geographical charts\n",
    "- Advanced charts\n",
    "- 3D charts\n",
    "- Further reading"
   ]
  },
  {
   "cell_type": "markdown",
   "metadata": {},
   "source": [
    "This workshop will only showcase the most useful functionalities, or those that cannot (easily) be achieved through matplotlib. Specific links for additional information are provided under each subsection. For a general description of charts and their usage, refer to the previous workshop."
   ]
  },
  {
   "cell_type": "markdown",
   "metadata": {},
   "source": [
    "---"
   ]
  },
  {
   "cell_type": "code",
   "execution_count": null,
   "metadata": {},
   "outputs": [],
   "source": [
    "import plotly.graph_objects as go"
   ]
  },
  {
   "cell_type": "code",
   "execution_count": null,
   "metadata": {},
   "outputs": [],
   "source": [
    "import pandas as pd\n",
    "import numpy as np"
   ]
  },
  {
   "cell_type": "markdown",
   "metadata": {},
   "source": [
    "Note: the following cell is just my personal preference, feel free to skip. Read more about theming in [the docs](https://plot.ly/python/templates/)."
   ]
  },
  {
   "cell_type": "code",
   "execution_count": null,
   "metadata": {},
   "outputs": [],
   "source": [
    "# Change from the default seaborn-esque theme to a lighter one.\n",
    "import plotly.io as pio\n",
    "pio.templates.default = 'plotly_white'"
   ]
  },
  {
   "cell_type": "markdown",
   "metadata": {},
   "source": [
    "### Basic charts"
   ]
  },
  {
   "cell_type": "markdown",
   "metadata": {},
   "source": [
    "Pretty much every chart you can make using `matplotlib`, you can make using `plotly`"
   ]
  },
  {
   "cell_type": "markdown",
   "metadata": {},
   "source": [
    "#### Line & Scatter"
   ]
  },
  {
   "cell_type": "code",
   "execution_count": null,
   "metadata": {},
   "outputs": [],
   "source": [
    "years = [2015, 2016, 2017, 2018, 2019, 2020]\n",
    "price = [  70,   72,   79,   80,   85,   77]\n",
    "\n",
    "go.Figure(go.Scatter(x=years, y=price))"
   ]
  },
  {
   "cell_type": "markdown",
   "metadata": {},
   "source": [
    "Slightly confusingly, `go.Scatter` produces a line plot by default (markers with straight connections). \n",
    "To produce an actual scatter plot, provide the `mode='markers'` argument:"
   ]
  },
  {
   "cell_type": "code",
   "execution_count": null,
   "metadata": {},
   "outputs": [],
   "source": [
    "height = [146, 152, 161, 164, 166, 171, 174, 178, 185, 195]\n",
    "weight = [ 54,  59,  79,  75,  73,  82,  85,  84,  92,  94]\n",
    "\n",
    "go.Figure(go.Scatter(x=weight, y=height, mode='markers'))"
   ]
  },
  {
   "cell_type": "markdown",
   "metadata": {},
   "source": [
    "See [the docs](https://plot.ly/python/filled-area-plots/) for filled area charts."
   ]
  },
  {
   "cell_type": "markdown",
   "metadata": {},
   "source": [
    "#### Bar"
   ]
  },
  {
   "cell_type": "code",
   "execution_count": null,
   "metadata": {},
   "outputs": [],
   "source": [
    "companies = ['Stark Ind.', 'Wayne Ent.', 'Lexcorp', 'Oscorp', 'ACME']\n",
    "valuation = [41, 37, 31, 26, 24]\n",
    "\n",
    "go.Figure(data=go.Bar(x=companies, y=valuation))"
   ]
  },
  {
   "cell_type": "markdown",
   "metadata": {},
   "source": [
    "#### Multiple traces"
   ]
  },
  {
   "cell_type": "markdown",
   "metadata": {},
   "source": [
    "You can also mix trace types:"
   ]
  },
  {
   "cell_type": "code",
   "execution_count": null,
   "metadata": {},
   "outputs": [],
   "source": [
    "years  = [2015, 2016, 2017, 2018, 2019, 2020]\n",
    "price  = [  70,   72,   79,   80,   85,   77]\n",
    "profit = [  -5,   24,   51,   37,   25,   47]\n",
    "\n",
    "go.Figure([\n",
    "    go.Scatter(x=years, y=price,  name='Price'),\n",
    "    go.Bar    (x=years, y=profit, name='Profit')\n",
    "])"
   ]
  },
  {
   "cell_type": "markdown",
   "metadata": {},
   "source": [
    "Stacked bar charts (horizontal orientation):"
   ]
  },
  {
   "cell_type": "code",
   "execution_count": null,
   "metadata": {},
   "outputs": [],
   "source": [
    "potential = [ 4,  9,  3,  5,  4]\n",
    "\n",
    "fig = go.Figure([\n",
    "    go.Bar(orientation='h', y=companies, x=valuation, name='Worth'),\n",
    "    go.Bar(orientation='h', y=companies, x=potential, name='Growth')\n",
    "])\n",
    "\n",
    "fig.update_layout(barmode='stack')"
   ]
  },
  {
   "cell_type": "markdown",
   "metadata": {},
   "source": [
    "Check [the docs](https://plot.ly/python/bar-charts/) for grouped, and other variations of bar charts, and [horizontal bar charts](https://plot.ly/python/horizontal-bar-charts/)."
   ]
  },
  {
   "cell_type": "markdown",
   "metadata": {},
   "source": [
    "### Why make it interactive?"
   ]
  },
  {
   "cell_type": "markdown",
   "metadata": {},
   "source": [
    "You might have noticed that we essentially replicating the same charts we already know how to make in matplotlib. Why bother learning a new tool to achieve the same results?"
   ]
  },
  {
   "cell_type": "code",
   "execution_count": null,
   "metadata": {},
   "outputs": [],
   "source": [
    "import plotly.express as px"
   ]
  },
  {
   "cell_type": "code",
   "execution_count": null,
   "metadata": {},
   "outputs": [],
   "source": [
    "fig = px.scatter(\n",
    "    px.data.tips(),\n",
    "    x='total_bill',\n",
    "    y='tip',\n",
    "    color='day',\n",
    ")\n",
    "fig.show(config={'scrollZoom': True})"
   ]
  },
  {
   "cell_type": "markdown",
   "metadata": {},
   "source": [
    "We jumped ahead a couple of sections, but the above chart helps illustrate one of the main advantages of an interactive chart: being able to better explore the data by filtering it out:\n",
    " - focus on a specific range: only on bills above 40, or tips above 5, or both\n",
    " - focus on a subset of data points: only on weekends (click _Thur_ and _Fri_) inside the legend to the right, or just Sunday (double click _Sun_ in the legend)\n",
    " - zoom in/out with the scroll wheel (enabled by the last line in the above cell) or the _plus/minus_ buttons on the top right menu bar\n",
    " - reset the view (using the _home_) button on the top right menu bar, and explore another view of the data, without having to plot again\n",
    " \n",
    "The second main advantage is being able to provide additional information through hover or click events, which are explored later."
   ]
  },
  {
   "cell_type": "markdown",
   "metadata": {},
   "source": [
    "---"
   ]
  },
  {
   "cell_type": "markdown",
   "metadata": {},
   "source": [
    "To save the current view as a static image, click the camera button."
   ]
  },
  {
   "cell_type": "markdown",
   "metadata": {},
   "source": [
    "Much more so than static ones, plotly charts take up a lot of memory, making the notebook significantly laggy when many of them are present."
   ]
  },
  {
   "cell_type": "markdown",
   "metadata": {},
   "source": [
    "### Layouting"
   ]
  },
  {
   "cell_type": "markdown",
   "metadata": {},
   "source": [
    "#### Plot and axes titles"
   ]
  },
  {
   "cell_type": "code",
   "execution_count": null,
   "metadata": {},
   "outputs": [],
   "source": [
    "fig = go.Figure(go.Scatter(x=years, y=price, mode='lines'))\n",
    "fig.update_layout(\n",
    "    title='Price Evolution',\n",
    "    xaxis_title='Time',\n",
    "    yaxis_title='Price',\n",
    ")"
   ]
  },
  {
   "cell_type": "markdown",
   "metadata": {},
   "source": [
    "#### Axes ticks"
   ]
  },
  {
   "cell_type": "markdown",
   "metadata": {},
   "source": [
    "Change the tick label format:"
   ]
  },
  {
   "cell_type": "code",
   "execution_count": null,
   "metadata": {},
   "outputs": [],
   "source": [
    "from datetime import datetime"
   ]
  },
  {
   "cell_type": "code",
   "execution_count": null,
   "metadata": {},
   "outputs": [],
   "source": [
    "dates = [\n",
    "    # note that they are actual datetime objects\n",
    "    datetime(year=2010, month=1, day=1),\n",
    "    datetime(year=2010, month=6, day=1),\n",
    "    datetime(year=2011, month=1, day=1),\n",
    "    datetime(year=2011, month=6, day=1),\n",
    "    datetime(year=2012, month=1, day=1),\n",
    "    datetime(year=2012, month=6, day=1),\n",
    "]\n",
    "fig = go.Figure(go.Scatter(x=dates, y=price))\n",
    "fig.update_layout(\n",
    "    yaxis_tickformat='$d',\n",
    "    xaxis_tickformat=\"%b '%y\"  # for datetime(year=2010, month=1, day=1), %b turns into Jan and %y turns into 10\n",
    ")"
   ]
  },
  {
   "cell_type": "markdown",
   "metadata": {},
   "source": [
    "[strftime.org](https://strftime.org) is a wonderful reference for string-time formatting in python (and other languages as well)."
   ]
  },
  {
   "cell_type": "markdown",
   "metadata": {},
   "source": [
    "---"
   ]
  },
  {
   "cell_type": "markdown",
   "metadata": {},
   "source": [
    "Manually define tick frequency:"
   ]
  },
  {
   "cell_type": "code",
   "execution_count": null,
   "metadata": {},
   "outputs": [],
   "source": [
    "fig = go.Figure(go.Scatter(x=weight, y=height, mode='markers'))\n",
    "\n",
    "fig.update_layout(\n",
    "    xaxis=dict(\n",
    "        tickmode='linear',\n",
    "        dtick=2.5,  # maintain a distance of 2.5 between ticks\n",
    "    )\n",
    ")"
   ]
  },
  {
   "cell_type": "markdown",
   "metadata": {},
   "source": [
    "Manually define tick labels:"
   ]
  },
  {
   "cell_type": "code",
   "execution_count": null,
   "metadata": {},
   "outputs": [],
   "source": [
    "fig = go.Figure(go.Scatter(x=weight, y=height, mode='markers'))\n",
    "\n",
    "fig.update_layout(\n",
    "    xaxis=dict(\n",
    "        tickmode='array',\n",
    "        tickvals=[53, 75, 96],\n",
    "        ticktext=['underweight', 'normal weight', 'overweight'],\n",
    "    )\n",
    ")"
   ]
  },
  {
   "cell_type": "markdown",
   "metadata": {},
   "source": [
    "Please note that the above under/overweight classifications are purely didactical, not rooted in any medical reality."
   ]
  },
  {
   "cell_type": "markdown",
   "metadata": {},
   "source": [
    "#### Hover tooltip"
   ]
  },
  {
   "cell_type": "code",
   "execution_count": null,
   "metadata": {},
   "outputs": [],
   "source": [
    "height = [146.9, 152.8, 161.7, 164.3, 166.4, 171.2, 174.7, 178.1, 185.2, 195.5]\n",
    "weight = [ 54.1,  59.3,  79.4,  75.2,  73.3,  82.7,  85.5,  84.9,  92.3,  94.2]\n",
    "names  = ['Ana', 'Bob', 'Chris', 'Dave', 'Ed', 'Fred', 'George', 'Hank', 'Ivy', 'Jake']\n",
    "\n",
    "# Some lightweight html styling is allowed\n",
    "fig = go.Figure(go.Scatter(\n",
    "    x=weight, \n",
    "    y=height, \n",
    "    mode='markers', \n",
    "    text=names, \n",
    "    hovertemplate='<b>%{text}</b> weighs %{x} kg<br>'\n",
    "                  'and is %{y:.2f} cm tall', \n",
    "    name='',  # we'll see what's up with this in a bit\n",
    "))\n",
    "\n",
    "# Note that the hoverformat is independent of the tickformat\n",
    "fig.update_layout(\n",
    "    yaxis_tickformat='d',  # no decimals\n",
    ")"
   ]
  },
  {
   "cell_type": "markdown",
   "metadata": {},
   "source": [
    "For dates, use the syntax `%{y| %b %Y}`"
   ]
  },
  {
   "cell_type": "markdown",
   "metadata": {},
   "source": [
    "See [the docs](https://plot.ly/python/hover-text-and-formatting/) for more formatting examples."
   ]
  },
  {
   "cell_type": "markdown",
   "metadata": {},
   "source": [
    "#### Annotations"
   ]
  },
  {
   "cell_type": "markdown",
   "metadata": {},
   "source": [
    "Datapoint text labels are much easier to display compared to matplotlib:"
   ]
  },
  {
   "cell_type": "code",
   "execution_count": null,
   "metadata": {},
   "outputs": [],
   "source": [
    "go.Figure(go.Scatter(\n",
    "    x=weight, y=height,\n",
    "    text=names, textposition='top center',\n",
    "    mode='markers+text',\n",
    "))"
   ]
  },
  {
   "cell_type": "markdown",
   "metadata": {},
   "source": [
    "See [the docs](https://plot.ly/python/text-and-annotations/) for more examples of text annotations."
   ]
  },
  {
   "cell_type": "markdown",
   "metadata": {},
   "source": [
    "---"
   ]
  },
  {
   "cell_type": "markdown",
   "metadata": {},
   "source": [
    "Shapes and chart annotations can be used to:\n",
    " - highlight a specific range (like the red rectangle on the right does)\n",
    " - highlight an area (like the green circle does)\n",
    " - draw attention to an area (like the _Special_ arrow does)"
   ]
  },
  {
   "cell_type": "code",
   "execution_count": null,
   "metadata": {},
   "outputs": [],
   "source": [
    "fig = go.Figure(go.Scatter(x=weight, y=height, mode='markers'))\n",
    "fig.update_layout(\n",
    "    shapes=[\n",
    "        dict(\n",
    "            type='rect',\n",
    "            fillcolor='LightSalmon',\n",
    "            layer='below',\n",
    "            line_width=0,\n",
    "\n",
    "\n",
    "            # horizontal coordinates reference the x axis (around 55-95)\n",
    "            xref='x', x0=89, x1=96,\n",
    "\n",
    "            # vertical coordinates reference the plot paper [0, 1]\n",
    "            yref='paper', y0=0, y1=1,\n",
    "        ),\n",
    "\n",
    "        dict(\n",
    "            type='circle',\n",
    "            line_color='LightSeaGreen',\n",
    "\n",
    "            xref='x', yref='y',\n",
    "            x0=62, y0=155,\n",
    "            x1=70, y1=168,\n",
    "        )\n",
    "    ],\n",
    "    \n",
    "    annotations=[\n",
    "        dict(\n",
    "            text='Special',\n",
    "            showarrow=True,\n",
    "            arrowhead=1,  # shape of the arrow head\n",
    "\n",
    "            xref='x', yref='y',\n",
    "            x=79, y=163,\n",
    "\n",
    "            # how much to draw back the arrow\n",
    "            ax=-50, ay=-100,\n",
    "        ),\n",
    "    ]\n",
    ")"
   ]
  },
  {
   "cell_type": "markdown",
   "metadata": {},
   "source": [
    "See the docs for more uses of [shapes](https://plot.ly/python/shapes/) or even [images](https://plot.ly/python/images/)."
   ]
  },
  {
   "cell_type": "markdown",
   "metadata": {},
   "source": [
    "#### Figure size"
   ]
  },
  {
   "cell_type": "markdown",
   "metadata": {},
   "source": [
    "The _paper background_ color is set grey to easily identify the margins:"
   ]
  },
  {
   "cell_type": "code",
   "execution_count": null,
   "metadata": {},
   "outputs": [],
   "source": [
    "fig = go.Figure(go.Scatter(x=years, y=price))\n",
    "fig.update_layout(\n",
    "    autosize=False,\n",
    "    width=600,\n",
    "    height=400,\n",
    "    margin=dict(\n",
    "        l=50,  # left\n",
    "        r=50,  # right\n",
    "        b=80,  # bottom\n",
    "        t=80,  # top\n",
    "    ),\n",
    "    paper_bgcolor='lightgrey',\n",
    ")"
   ]
  },
  {
   "cell_type": "markdown",
   "metadata": {},
   "source": [
    "`fig.update_yaxes(automargin=True)` makes it so that tick labels are not cut off by axis labels."
   ]
  },
  {
   "cell_type": "markdown",
   "metadata": {},
   "source": [
    "---"
   ]
  },
  {
   "cell_type": "markdown",
   "metadata": {},
   "source": [
    "If you wish to remove buttons from the mode bar (buttons on the top right):"
   ]
  },
  {
   "cell_type": "code",
   "execution_count": null,
   "metadata": {},
   "outputs": [],
   "source": [
    "fig = go.Figure(\n",
    "    go.Scatter(x=[1, 2, 4], y=[5, 4, 7])\n",
    ")\n",
    "fig.show(config=dict(\n",
    "    displaylogo=False,\n",
    "    modeBarButtonsToRemove=['toggleSpikelines']\n",
    "))"
   ]
  },
  {
   "cell_type": "markdown",
   "metadata": {},
   "source": [
    "#### Subplots"
   ]
  },
  {
   "cell_type": "code",
   "execution_count": null,
   "metadata": {},
   "outputs": [],
   "source": [
    "from plotly.subplots import make_subplots"
   ]
  },
  {
   "cell_type": "markdown",
   "metadata": {},
   "source": [
    "Subplots can vary in size and share axes:"
   ]
  },
  {
   "cell_type": "code",
   "execution_count": null,
   "metadata": {},
   "outputs": [],
   "source": [
    "fig = make_subplots(\n",
    "    rows=1, cols=2, \n",
    "    column_widths=[.7, .3],\n",
    "    subplot_titles=['Subtitle A', 'Subtitle B'],\n",
    "    shared_yaxes=True,  # note that the axis' ticks will only appear on the left\n",
    ")\n",
    "\n",
    "fig.add_trace(\n",
    "    go.Scatter(x=[1, 2, 4], y=[5, 4, 7]),\n",
    "    row=1, col=1\n",
    ")\n",
    "\n",
    "fig.add_trace(\n",
    "    go.Bar(x=[10, 20, 30], y=[-2, 8, 11]),\n",
    "    row=1, col=2\n",
    ")\n",
    "\n",
    "fig.update_layout(title='Super Title', showlegend=False)"
   ]
  },
  {
   "cell_type": "markdown",
   "metadata": {},
   "source": [
    "See [the docs](https://plot.ly/python/subplots/) for details on how to make more intricate subplot layouts. [This page](https://plot.ly/python/subplot-charts/) contains additional articles on subplots."
   ]
  },
  {
   "cell_type": "markdown",
   "metadata": {},
   "source": [
    "### Styling"
   ]
  },
  {
   "cell_type": "markdown",
   "metadata": {},
   "source": [
    "#### Fonts"
   ]
  },
  {
   "cell_type": "code",
   "execution_count": null,
   "metadata": {},
   "outputs": [],
   "source": [
    "fig = go.Figure(go.Scatter(x=years, y=price))\n",
    "fig.update_layout(\n",
    "    title=dict(\n",
    "        text='Price Evolution',\n",
    "        x=.5  # center horizontally\n",
    "    ),\n",
    "    xaxis_title='Time',\n",
    "    yaxis_title='Price',\n",
    "    font=dict(  # note that this font applies to all texts\n",
    "        color='orange',\n",
    "        size=20\n",
    "    )\n",
    ")"
   ]
  },
  {
   "cell_type": "markdown",
   "metadata": {},
   "source": [
    "#### Markers and lines"
   ]
  },
  {
   "cell_type": "markdown",
   "metadata": {},
   "source": [
    "Semi-transparent markers can make a large number of them legible:"
   ]
  },
  {
   "cell_type": "code",
   "execution_count": null,
   "metadata": {},
   "outputs": [],
   "source": [
    "x = np.random.uniform(size=100)\n",
    "y = np.random.uniform(size=100)\n",
    "\n",
    "go.Figure(go.Scatter(\n",
    "    x=x, y=y,\n",
    "    mode='markers',\n",
    "    marker=dict(\n",
    "        color='LightSkyBlue',  # or even white\n",
    "        size=30,\n",
    "        opacity=.5,\n",
    "        \n",
    "        line=dict(\n",
    "            color='MediumPurple',\n",
    "            width=4,\n",
    "        )\n",
    "    )\n",
    "))"
   ]
  },
  {
   "cell_type": "markdown",
   "metadata": {},
   "source": [
    "See the docs for more [marker styling](https://plot.ly/python/marker-style/) and [line styling](https://plot.ly/python/line-charts/) examples."
   ]
  },
  {
   "cell_type": "markdown",
   "metadata": {},
   "source": [
    "#### Colors"
   ]
  },
  {
   "cell_type": "markdown",
   "metadata": {},
   "source": [
    "See the docs for more information on:\n",
    " - [continuous color scales](https://plot.ly/python/builtin-colorscales/)\n",
    " - [discrete colors](https://plot.ly/python/discrete-color/)\n",
    " - [more examples of usage](https://plot.ly/python/colorscales/)"
   ]
  },
  {
   "cell_type": "markdown",
   "metadata": {},
   "source": [
    "### Geographical charts"
   ]
  },
  {
   "cell_type": "markdown",
   "metadata": {},
   "source": [
    "A choropleth map is a geographical map in which areas are shaded in proportion to a variable. Similar to a heatmap, but for irregular areas:"
   ]
  },
  {
   "cell_type": "code",
   "execution_count": null,
   "metadata": {},
   "outputs": [],
   "source": [
    "fig = go.Figure(go.Choropleth(\n",
    "    locations=['CA', 'TX', 'NY', 'FL', 'IL'], \n",
    "    z=[3155, 1896, 1741, 1101, 902],\n",
    "    locationmode='USA-states',\n",
    "    colorscale='Mint'\n",
    "))\n",
    "fig.update_layout(\n",
    "    title_text='Top five US states by GDP (2019 Q3 $bn)',\n",
    "    geo_scope='usa',\n",
    "    height=600,\n",
    ")"
   ]
  },
  {
   "cell_type": "markdown",
   "metadata": {},
   "source": [
    "Note: an ineffective way of displaying this information would be a [Bubble map](https://plot.ly/python/bubble-maps/). See this [great visualization] which would have benefited greatly from a choropleth treatment."
   ]
  },
  {
   "cell_type": "markdown",
   "metadata": {},
   "source": [
    "See [the docs](https://plot.ly/python/choropleth-maps/) for more variations."
   ]
  },
  {
   "cell_type": "markdown",
   "metadata": {},
   "source": [
    "---"
   ]
  },
  {
   "cell_type": "markdown",
   "metadata": {},
   "source": [
    "We can zoom down to district level (and show a diverging colorscale):"
   ]
  },
  {
   "cell_type": "code",
   "execution_count": null,
   "metadata": {},
   "outputs": [],
   "source": [
    "df = px.data.election()\n",
    "geojson = px.data.election_geojson()\n",
    "\n",
    "fig = px.choropleth_mapbox(\n",
    "    # see these two dataframes for expected format\n",
    "    px.data.election(),\n",
    "    geojson=px.data.election_geojson(),\n",
    "    \n",
    "    locations='district',\n",
    "    featureidkey='properties.district',\n",
    "    color='Bergeron',  # specify column to be used as z axis\n",
    "    \n",
    "    mapbox_style='carto-positron',  # base layer\n",
    "    color_continuous_scale='RdYlGn',\n",
    "    \n",
    "    # specify the initial map view\n",
    "    center=dict(lat=45.5517, lon=-73.7073), \n",
    "    zoom=9, \n",
    ")\n",
    "fig.update_layout(\n",
    "    margin=dict(r=0, l=0, b=0),\n",
    "    title_text='Votes for candidate'\n",
    ")"
   ]
  },
  {
   "cell_type": "markdown",
   "metadata": {},
   "source": [
    "See [the docs](https://plot.ly/python/county-choropleth/) for county-level granularity."
   ]
  },
  {
   "cell_type": "markdown",
   "metadata": {},
   "source": [
    "---"
   ]
  },
  {
   "cell_type": "markdown",
   "metadata": {},
   "source": [
    "We can zoom out, and show a density plot on terrain data:"
   ]
  },
  {
   "cell_type": "code",
   "execution_count": null,
   "metadata": {},
   "outputs": [],
   "source": [
    "fig = px.density_mapbox(\n",
    "    pd.read_csv('https://raw.githubusercontent.com/plotly/datasets/master/earthquakes-23k.csv'), \n",
    "    lat='Latitude', lon='Longitude', z='Magnitude',  # columns in the above dataset\n",
    "    \n",
    "    radius=5,\n",
    "    \n",
    "    # initial view\n",
    "    center=dict(lat=0, lon=180), zoom=1,\n",
    "    mapbox_style='stamen-terrain'\n",
    ")\n",
    "fig.update_layout(margin=dict(t=0, b=0, l=0, r=0))"
   ]
  },
  {
   "cell_type": "markdown",
   "metadata": {},
   "source": [
    "See [the docs](https://plot.ly/python/mapbox-density-heatmaps/) for more information on density maps."
   ]
  },
  {
   "cell_type": "markdown",
   "metadata": {},
   "source": [
    "---"
   ]
  },
  {
   "cell_type": "markdown",
   "metadata": {},
   "source": [
    "We can also localize heatmap centers to single points:"
   ]
  },
  {
   "cell_type": "code",
   "execution_count": null,
   "metadata": {},
   "outputs": [],
   "source": [
    "df = pd.read_csv('https://raw.githubusercontent.com/plotly/datasets/master/2011_february_us_airport_traffic.csv')\\\n",
    "    .rename(columns={'cnt': 'arrivals'})\\\n",
    "    .sort_values(by='arrivals', ascending=False)\\\n",
    "    .head(20)"
   ]
  },
  {
   "cell_type": "code",
   "execution_count": null,
   "metadata": {},
   "outputs": [],
   "source": [
    "fig = px.scatter_mapbox(\n",
    "    df, \n",
    "    lat='lat', lon='long', color='arrivals',\n",
    "    \n",
    "    hover_name='city', \n",
    "    hover_data=['state', 'airport'],\n",
    "        \n",
    "    color_continuous_scale='Plotly3_r',  # same as with matplotlib, append _r to reverse it\n",
    "    zoom=3,    \n",
    ")\n",
    "\n",
    "fig.update_layout(\n",
    "    margin=dict(t=0, b=0, l=0, r=0),\n",
    "    mapbox_style='open-street-map'\n",
    ")"
   ]
  },
  {
   "cell_type": "markdown",
   "metadata": {},
   "source": [
    "See [the docs](https://plot.ly/python/scattermapbox/) for more configuration options."
   ]
  },
  {
   "cell_type": "markdown",
   "metadata": {},
   "source": [
    "---"
   ]
  },
  {
   "cell_type": "code",
   "execution_count": null,
   "metadata": {},
   "outputs": [],
   "source": [
    "airports = pd.read_csv('https://raw.githubusercontent.com/plotly/datasets/master/2011_february_us_airport_traffic.csv')\n",
    "flight_paths = pd.read_csv('https://raw.githubusercontent.com/plotly/datasets/master/2011_february_aa_flight_paths.csv')"
   ]
  },
  {
   "cell_type": "code",
   "execution_count": null,
   "metadata": {},
   "outputs": [],
   "source": [
    "list(flight_paths.iterrows())[0]"
   ]
  },
  {
   "cell_type": "code",
   "execution_count": null,
   "metadata": {},
   "outputs": [],
   "source": [
    "fig = go.Figure(\n",
    "    # one point for each airport\n",
    "    go.Scattergeo(\n",
    "        locationmode='USA-states',\n",
    "        lat=airports.lat,\n",
    "        lon=airports.long,\n",
    "        hoverinfo = 'text',\n",
    "        text=airports.airport,\n",
    "        mode='markers',\n",
    "        marker=dict(\n",
    "            size=2,\n",
    "            color='rgb(255, 0, 0)',\n",
    "            line=dict(\n",
    "                width=3,\n",
    "                color='rgba(68, 68, 68, 0)'\n",
    "            )\n",
    "        )\n",
    "    )\n",
    ")\n",
    "\n",
    "# one line for each pair of airports having a flight\n",
    "max_flight = float(flight_paths.cnt.max())\n",
    "for _, row in flight_paths.iterrows():\n",
    "    fig.add_trace(\n",
    "        go.Scattergeo(\n",
    "            lon=(row.start_lon, row.end_lon),\n",
    "            lat=(row.start_lat, row.end_lat),\n",
    "            mode='lines',  locationmode='USA-states',\n",
    "            line=dict(width=1, color='red'),\n",
    "            opacity=row.cnt / max_flight,\n",
    "        )\n",
    "    )\n",
    "\n",
    "fig.update_layout(\n",
    "    showlegend=False,\n",
    "    geo=dict(\n",
    "        projection_type='equirectangular',\n",
    "        showframe=False,\n",
    "        \n",
    "        landcolor='rgb(245, 245, 245)',\n",
    "    ),\n",
    "    height=600, \n",
    "    margin=dict(t=0, b=0, l=0, r=0)\n",
    ")"
   ]
  },
  {
   "cell_type": "markdown",
   "metadata": {},
   "source": [
    "Note: no 2D projection of a sphere is perfect. See [this video](https://www.youtube.com/watch?v=kIID5FDi2JQ) for a nice explanation. Some projection methods are better than others, but all are flawed. [This website](https://www.thetruesize.com) allows interactive comparison of the true sizes of countries.\n",
    "\n",
    "The only entirely faithful representation of the globe would be 3D:"
   ]
  },
  {
   "cell_type": "code",
   "execution_count": null,
   "metadata": {},
   "outputs": [],
   "source": [
    "px.line_geo(\n",
    "    px.data.gapminder().query('year == 2007'), \n",
    "    color='continent', # \"continent\" is a column in the dataframe\n",
    "    \n",
    "    locations='iso_alpha',\n",
    "    projection='orthographic',\n",
    "    height=600,\n",
    ")"
   ]
  },
  {
   "cell_type": "markdown",
   "metadata": {},
   "source": [
    "See [the docs](https://plot.ly/python/lines-on-maps/) for more map line options."
   ]
  },
  {
   "cell_type": "markdown",
   "metadata": {},
   "source": [
    "---"
   ]
  },
  {
   "cell_type": "markdown",
   "metadata": {},
   "source": [
    "See the docs for [more configuration options](https://plot.ly/python/map-configuration/) and [more chart variations](https://plot.ly/python/maps/)."
   ]
  },
  {
   "cell_type": "markdown",
   "metadata": {},
   "source": [
    "### Advanced charts"
   ]
  },
  {
   "cell_type": "markdown",
   "metadata": {},
   "source": [
    "Charts that can not be (easily) created in matplotlib/seaborn"
   ]
  },
  {
   "cell_type": "markdown",
   "metadata": {},
   "source": [
    "#### Funnel"
   ]
  },
  {
   "cell_type": "markdown",
   "metadata": {},
   "source": [
    "Represent data in sequential stages of a process, showing progressively decreasing values. Highlights steps at which high drops occur. "
   ]
  },
  {
   "cell_type": "code",
   "execution_count": null,
   "metadata": {},
   "outputs": [],
   "source": [
    "stages = ['Freshman', 'Sophomore', 'Junior', 'Senior']\n",
    "\n",
    "go.Figure([\n",
    "    go.Funnel(\n",
    "        name='Male',\n",
    "        y=stages,\n",
    "        x=[1100, 820, 290, 230],\n",
    "        textinfo='value+percent initial'  # also available: percent total, percent previous\n",
    "    ),\n",
    "    \n",
    "    go.Funnel(\n",
    "        name='Female',\n",
    "        y=stages,\n",
    "        x=[700, 680, 400, 320],\n",
    "        textinfo='value+percent initial'\n",
    "    ),\n",
    "    \n",
    "    go.Funnel(\n",
    "        name='Other',\n",
    "        y=stages,\n",
    "        x=[20, 12, 10, 9]\n",
    "    )\n",
    "])"
   ]
  },
  {
   "cell_type": "markdown",
   "metadata": {},
   "source": [
    "This fictional shows an overall drop after the _Sophomore_ stage. Also, the female population started as smaller then the male one, but ended up larger."
   ]
  },
  {
   "cell_type": "markdown",
   "metadata": {},
   "source": [
    "See [the docs](https://plot.ly/python/funnel-charts/) for more styling options."
   ]
  },
  {
   "cell_type": "markdown",
   "metadata": {},
   "source": [
    "#### Sankey"
   ]
  },
  {
   "cell_type": "markdown",
   "metadata": {},
   "source": [
    "A flow diagram in which the width of the band is proportional to the flow rate. It shows contributions to a flow in a system."
   ]
  },
  {
   "cell_type": "code",
   "execution_count": null,
   "metadata": {},
   "outputs": [],
   "source": [
    "go.Figure(go.Sankey(\n",
    "    node=dict(\n",
    "        #       0           1           2          3        4              5        6          7            8\n",
    "        label=['Main job', 'Side job', 'Lottery', 'Real estate', 'Stock', 'Bills', 'Savings', 'Vacations', 'Charity'],\n",
    "    ),\n",
    "    link=dict(\n",
    "        source=[0, 1, 0, 1, 2, 0, 3, 2, 2, 3, 4, 4],\n",
    "        target=[3, 3, 4, 4, 3, 5, 7, 7, 8, 6, 5, 6],\n",
    "        value =[3, 2, 3, 1, 1, 7, 3, 4, 2, 6, 2, 1],\n",
    "    )\n",
    "))"
   ]
  },
  {
   "cell_type": "markdown",
   "metadata": {},
   "source": [
    "This fictional example shows that most of the income from the main job goes towards paying bills, with some significant portion of it going into investments. Real estate investment was more profitable compared to the stock market, and the largest portion of it goes towards savings. Lottery winnings are used mostly for vacations, with a portion going towards charity."
   ]
  },
  {
   "cell_type": "markdown",
   "metadata": {},
   "source": [
    "Read more about sankey diagrams [here](https://www.anychart.com/chartopedia/chart-type/sankey-diagram/)."
   ]
  },
  {
   "cell_type": "markdown",
   "metadata": {},
   "source": [
    "#### Radar"
   ]
  },
  {
   "cell_type": "markdown",
   "metadata": {},
   "source": [
    "Also known as a spider plot, it shows multiple attributes in a radial manner, highlighting the strengths, weaknesses and overall area of multiple datapoints:"
   ]
  },
  {
   "cell_type": "code",
   "execution_count": null,
   "metadata": {},
   "outputs": [],
   "source": [
    "categories = ['speed', 'power', 'stamina', 'experience', 'recovery speed']\n",
    "\n",
    "go.Figure([\n",
    "    go.Scatterpolar(\n",
    "        name='Athlete A',\n",
    "        r=[3, 5, 2, 4, 3],\n",
    "        theta=categories,\n",
    "        fill='toself',\n",
    "    ),\n",
    "    \n",
    "    go.Scatterpolar(\n",
    "        name='Athlete B',\n",
    "        r=[5, 2, 4, 1, 2],\n",
    "        theta=categories,\n",
    "        fill='toself',\n",
    "    ),\n",
    "])"
   ]
  },
  {
   "cell_type": "markdown",
   "metadata": {},
   "source": [
    "This fictional example highlights _Athlete A's_ strengths, power and experience, compared to _Athlete B_ who focuses on speed and stamina. _Athlete A_ wins in the sum of all attribute ratings (17 vs 14)."
   ]
  },
  {
   "cell_type": "markdown",
   "metadata": {},
   "source": [
    "#### Distribution plots "
   ]
  },
  {
   "cell_type": "markdown",
   "metadata": {},
   "source": [
    "Can include a representation of each datapoint, in the form of a Rug plot, on the margin:"
   ]
  },
  {
   "cell_type": "code",
   "execution_count": null,
   "metadata": {},
   "outputs": [],
   "source": [
    "df = px.data.tips()\n",
    "px.histogram(\n",
    "    df, \n",
    "    x='total_bill', y='tip', color='time', \n",
    "    marginal='rug', hover_data=df.columns\n",
    ")"
   ]
  },
  {
   "cell_type": "markdown",
   "metadata": {},
   "source": [
    "See the docs for more examples of [histograms](https://plot.ly/python/histograms/) and [distplots](https://plot.ly/python/distplot/), including  KDE."
   ]
  },
  {
   "cell_type": "markdown",
   "metadata": {},
   "source": [
    "---"
   ]
  },
  {
   "cell_type": "markdown",
   "metadata": {},
   "source": [
    "Boxplots can be easier to interpret when the viewer is able to mouse over and see what each point represents, rather than relying on memory:"
   ]
  },
  {
   "cell_type": "code",
   "execution_count": null,
   "metadata": {},
   "outputs": [],
   "source": [
    "px.box(\n",
    "    px.data.tips(),\n",
    "    x='day', y='total_bill', color='smoker'\n",
    ")"
   ]
  },
  {
   "cell_type": "markdown",
   "metadata": {},
   "source": [
    "The same kind of information can be displayed upon hovering a Violin plot:"
   ]
  },
  {
   "cell_type": "code",
   "execution_count": null,
   "metadata": {},
   "outputs": [],
   "source": [
    "df = px.data.tips()\n",
    "smokers = (df.smoker == 'Yes')\n",
    "\n",
    "go.Figure([\n",
    "    go.Violin(\n",
    "        x=df.day[~smokers],\n",
    "        y=df.total_bill[~smokers],\n",
    "        side='negative',\n",
    "        name='Non-smokers'\n",
    "    ),\n",
    "    go.Violin(\n",
    "        x=df.day[smokers],\n",
    "        y=df.total_bill[smokers],\n",
    "        side='positive',\n",
    "        name='Smokers'\n",
    "    )\n",
    "])"
   ]
  },
  {
   "cell_type": "markdown",
   "metadata": {},
   "source": [
    "See the docs for more variations of [Boxplots](https://plot.ly/python/box-plots/) and [Violin plots](https://plot.ly/python/violin/)."
   ]
  },
  {
   "cell_type": "markdown",
   "metadata": {},
   "source": [
    "---"
   ]
  },
  {
   "cell_type": "markdown",
   "metadata": {},
   "source": [
    "Similar to how Seaborn is to matplotlib, Plotly Express it to Plotly. It provides shortcuts for quick compositing of charts:"
   ]
  },
  {
   "cell_type": "code",
   "execution_count": null,
   "metadata": {},
   "outputs": [],
   "source": [
    "px.scatter(\n",
    "    px.data.tips(),\n",
    "    x='total_bill', y='tip', color='time', \n",
    "    marginal_x='box', marginal_y='histogram',\n",
    "    trendline='ols'\n",
    ")"
   ]
  },
  {
   "cell_type": "markdown",
   "metadata": {},
   "source": [
    "See [the docs](https://plot.ly/python/plotly-express/) for more examples."
   ]
  },
  {
   "cell_type": "markdown",
   "metadata": {},
   "source": [
    "### 3D charts"
   ]
  },
  {
   "cell_type": "markdown",
   "metadata": {},
   "source": [
    "In order to effectively observe data across $n$ dimensions, we need to plot in over $n+1$ dimensions:\n",
    "1. One dimensional data (numbers) can be plotted along a single line, which has two dimensions.\n",
    "2. Two dimensional data can be plotted on a coordinate system (as a scatter, line, bar, etc chart). The hidden third dimension is the location of points. The entirety of the chart can be observed at once.\n",
    "3. Three dimensional data can only be consumed two-dimensions at a time, whether represented on a computer display, a piece of paper, or a 3D representation. The observer needs to observe the graphical representation from multiple angles in order to perceive all three dimensions. The hidden fourth dimension in this case is time."
   ]
  },
  {
   "cell_type": "markdown",
   "metadata": {},
   "source": [
    "For this reason static 3D charts fail to communicate insights for most non-trivial data sets. Plotly (and matplotlib, but it is clunkier) allows the rotation of the chart. But most often, it is more efficient to fix one of the axes and plot two 2D traces in relation to it, rather than trying to wrap your head around a 3D representation:"
   ]
  },
  {
   "cell_type": "code",
   "execution_count": null,
   "metadata": {},
   "outputs": [],
   "source": [
    "fig = px.line_3d(x=years, y=price, z=profit)\n",
    "fig.update_layout(\n",
    "    height=600, \n",
    "    scene=dict(\n",
    "        xaxis_title='Years',\n",
    "        yaxis_title='Price',\n",
    "        zaxis_title='Profit'\n",
    "    )\n",
    ")"
   ]
  },
  {
   "cell_type": "markdown",
   "metadata": {},
   "source": [
    "The data in the 3D chart above is represented much more effectively in a two dimensions:"
   ]
  },
  {
   "cell_type": "code",
   "execution_count": null,
   "metadata": {},
   "outputs": [],
   "source": [
    "go.Figure([\n",
    "    go.Scatter(x=years, y=price,  name='Price'),\n",
    "    go.Scatter(x=years, y=profit, name='Profit')\n",
    "])"
   ]
  },
  {
   "cell_type": "markdown",
   "metadata": {},
   "source": [
    "---"
   ]
  },
  {
   "cell_type": "markdown",
   "metadata": {},
   "source": [
    "3D charts can be effective in exploring data in which there is no immediate axis which to set as the default comparison one:"
   ]
  },
  {
   "cell_type": "code",
   "execution_count": null,
   "metadata": {},
   "outputs": [],
   "source": [
    "import plotly.express as px"
   ]
  },
  {
   "cell_type": "code",
   "execution_count": null,
   "metadata": {},
   "outputs": [],
   "source": [
    "fig = px.scatter_3d(\n",
    "    px.data.iris(), \n",
    "    x='sepal_length', y='sepal_width', z='petal_width',\n",
    "    color='species'\n",
    ")\n",
    "fig.update_layout(height=600)"
   ]
  },
  {
   "cell_type": "markdown",
   "metadata": {},
   "source": [
    "---"
   ]
  },
  {
   "cell_type": "markdown",
   "metadata": {},
   "source": [
    "While it can be more intuitive to explore a two dimensional distribution as a 3D surface plot, often a heatmap is more effective:"
   ]
  },
  {
   "cell_type": "code",
   "execution_count": null,
   "metadata": {},
   "outputs": [],
   "source": [
    "mountain_elevation = pd.read_csv('https://raw.githubusercontent.com/plotly/datasets/master/api_docs/mt_bruno_elevation.csv')"
   ]
  },
  {
   "cell_type": "code",
   "execution_count": null,
   "metadata": {},
   "outputs": [],
   "source": [
    "fig = go.Figure(go.Surface(z=mountain_elevation))\n",
    "fig.update_layout(height=600)"
   ]
  },
  {
   "cell_type": "markdown",
   "metadata": {},
   "source": [
    "The same data from above is reproduced in a two-dimensional heatmap (equivalent to a view from above on the 3D chart):"
   ]
  },
  {
   "cell_type": "code",
   "execution_count": null,
   "metadata": {},
   "outputs": [],
   "source": [
    "fig = go.Figure(go.Heatmap(z=mountain_elevation))\n",
    "fig.update_layout(width=450, autosize=False)"
   ]
  },
  {
   "cell_type": "markdown",
   "metadata": {},
   "source": [
    "See the docs for more [heatmap options](https://plot.ly/python/heatmaps/) and examples of [3D charts](https://plot.ly/python/3d-charts/) but keep in mind the complexity overhead when adding the third dimension."
   ]
  },
  {
   "cell_type": "markdown",
   "metadata": {},
   "source": [
    "#### More kinds of charts"
   ]
  },
  {
   "cell_type": "markdown",
   "metadata": {},
   "source": [
    "Unfortunately, plotly has limited support for hierarchical charts such as [Treemaps](https://plot.ly/python/treemaps/). The [Sunburst chart](https://plot.ly/python/sunburst-charts/), a cousin of the Pie chart, carry all of its shortcomings.\n",
    "\n",
    "See the docs for more [supported charts](https://plot.ly/python/basic-charts/) including specialized ones:\n",
    " - [statistical](https://plot.ly/python/statistical-charts/)\n",
    " - [scientific](https://plot.ly/python/scientific-charts/)\n",
    " - [financial](https://plot.ly/python/financial-charts/)"
   ]
  },
  {
   "cell_type": "markdown",
   "metadata": {},
   "source": [
    "https://plot.ly/python/click-events/ click events (segway into dash)"
   ]
  },
  {
   "cell_type": "markdown",
   "metadata": {},
   "source": [
    "## Further reading"
   ]
  },
  {
   "cell_type": "markdown",
   "metadata": {},
   "source": [
    "- [from Data to Viz](https://www.data-to-viz.com) discusses various charts — when and how to use them"
   ]
  }
 ],
 "metadata": {
  "kernelspec": {
   "display_name": "viz-workshop-2020",
   "language": "python",
   "name": "viz-workshop-2020"
  },
  "language_info": {
   "codemirror_mode": {
    "name": "ipython",
    "version": 3
   },
   "file_extension": ".py",
   "mimetype": "text/x-python",
   "name": "python",
   "nbconvert_exporter": "python",
   "pygments_lexer": "ipython3",
   "version": "3.7.0"
  }
 },
 "nbformat": 4,
 "nbformat_minor": 4
}
