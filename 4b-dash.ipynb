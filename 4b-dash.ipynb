{
 "cells": [
  {
   "cell_type": "markdown",
   "metadata": {},
   "source": [
    "weather api: dashboard for weather"
   ]
  },
  {
   "cell_type": "markdown",
   "metadata": {},
   "source": [
    "homework: weather dashboard that also has a heatmap of the US"
   ]
  }
 ],
 "metadata": {
  "kernelspec": {
   "display_name": "viz-workshop-2020",
   "language": "python",
   "name": "viz-workshop-2020"
  },
  "language_info": {
   "codemirror_mode": {
    "name": "ipython",
    "version": 3
   },
   "file_extension": ".py",
   "mimetype": "text/x-python",
   "name": "python",
   "nbconvert_exporter": "python",
   "pygments_lexer": "ipython3",
   "version": "3.7.0"
  }
 },
 "nbformat": 4,
 "nbformat_minor": 4
}
