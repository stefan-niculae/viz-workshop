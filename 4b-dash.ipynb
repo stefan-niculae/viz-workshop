{
 "cells": [
  {
   "cell_type": "markdown",
   "metadata": {},
   "source": [
    "## 4b. Dash"
   ]
  },
  {
   "cell_type": "markdown",
   "metadata": {},
   "source": [
    "[Dash](https://dash.plot.ly) is a library from Plotly that enables integration of Plotly charts and controls into fully fledged web apps.\n",
    "\n",
    "Unfortunately time would not allow for a proper introduction of it, so this notebook only showcases a sample of what it can do."
   ]
  },
  {
   "cell_type": "code",
   "execution_count": null,
   "metadata": {},
   "outputs": [],
   "source": [
    "import plotly.graph_objects as go\n",
    "import plotly.express as px\n",
    "import pandas as pd"
   ]
  },
  {
   "cell_type": "markdown",
   "metadata": {},
   "source": [
    "---"
   ]
  },
  {
   "cell_type": "markdown",
   "metadata": {},
   "source": [
    "Controls can change the content of the chart:"
   ]
  },
  {
   "cell_type": "code",
   "execution_count": null,
   "metadata": {},
   "outputs": [],
   "source": [
    "px.scatter(\n",
    "    px.data.gapminder(), \n",
    "    x='gdpPercap', y='lifeExp', \n",
    "    animation_frame='year', animation_group='country',\n",
    "    \n",
    "    size='pop', color='continent', hover_name=\"country\",\n",
    "    \n",
    "    log_x=True, size_max=55, \n",
    "    range_x=(100, 100_000), range_y=(25,90),\n",
    "    height=700,\n",
    ")"
   ]
  },
  {
   "cell_type": "markdown",
   "metadata": {},
   "source": [
    "---"
   ]
  },
  {
   "cell_type": "markdown",
   "metadata": {},
   "source": [
    "Controls can also change the format of the chart:"
   ]
  },
  {
   "cell_type": "code",
   "execution_count": null,
   "metadata": {},
   "outputs": [],
   "source": [
    "mountain_elevation = pd.read_csv('https://raw.githubusercontent.com/plotly/datasets/master/volcano.csv')\n",
    "\n",
    "# Set the chart data and initial data kind\n",
    "fig = go.Figure(go.Surface(z=mountain_elevation))\n",
    "\n",
    "# Adjust size and 3D ratio\n",
    "fig.update_layout(\n",
    "    width=800, height=600, autosize=False,\n",
    "    margin=dict(t=0, b=0, l=0, r=0),\n",
    "    template='plotly_white',\n",
    ")\n",
    "fig.update_scenes(aspectratio=dict(x=1, y=1, z=0.7))\n",
    "\n",
    "# Add buttons to switch between the two chart types\n",
    "fig.update_layout(\n",
    "    updatemenus=[\n",
    "        dict(\n",
    "            type='buttons',\n",
    "            showactive=True,\n",
    "            buttons=[\n",
    "                dict(args=['type', 'surface'], label='3D Surface', method='restyle'),\n",
    "                dict(args=['type', 'heatmap'], label='Heatmap'   , method='restyle')\n",
    "            ]\n",
    "        )\n",
    "    ]\n",
    ")"
   ]
  },
  {
   "cell_type": "markdown",
   "metadata": {},
   "source": [
    "See the docs for examples of:\n",
    " - [changing chart data](https://plot.ly/python/dropdowns/)\n",
    " - [range selectors](https://plot.ly/python/range-slider/)\n",
    " - [text input](https://plot.ly/python/figurewidget-app/)\n",
    " - [inside chart click input](https://plot.ly/python/click-events/)"
   ]
  },
  {
   "cell_type": "markdown",
   "metadata": {},
   "source": [
    "The power of these controls becomes apparent when dealing with large datasets, and incorporating multiple plots. Some complex visualizations can be browsed in [the gallery](https://dash-gallery.plotly.host/Portal/).\n",
    "\n",
    "Dash it is built on top of [Flask](https://flask.palletsprojects.com/en/1.1.x/) and [React](https://reactjs.org), two very popular backend and frontend libraries, which makes it extensible. Additionally, you can deploy your app for free on [Heroku](https://www.heroku.com) and \"host\" on [GitHub Pages](https://pages.github.com)."
   ]
  },
  {
   "cell_type": "markdown",
   "metadata": {},
   "source": [
    "### Dataset exploration"
   ]
  },
  {
   "cell_type": "code",
   "execution_count": null,
   "metadata": {},
   "outputs": [],
   "source": [
    "import dtale"
   ]
  },
  {
   "cell_type": "markdown",
   "metadata": {},
   "source": [
    "D-Tale is a great tool built on top of Dash, released a couple of weeks ago (Feb 2020). It facilitates interactive exploration of dataframes:"
   ]
  },
  {
   "cell_type": "code",
   "execution_count": null,
   "metadata": {},
   "outputs": [],
   "source": [
    "dtale.show(px.data.tips())"
   ]
  },
  {
   "cell_type": "markdown",
   "metadata": {},
   "source": [
    "See examples of usage on the [project's repo page](https://github.com/man-group/dtale)."
   ]
  }
 ],
 "metadata": {
  "kernelspec": {
   "display_name": "viz-workshop-2020",
   "language": "python",
   "name": "viz-workshop-2020"
  },
  "language_info": {
   "codemirror_mode": {
    "name": "ipython",
    "version": 3
   },
   "file_extension": ".py",
   "mimetype": "text/x-python",
   "name": "python",
   "nbconvert_exporter": "python",
   "pygments_lexer": "ipython3",
   "version": "3.7.0"
  }
 },
 "nbformat": 4,
 "nbformat_minor": 4
}
